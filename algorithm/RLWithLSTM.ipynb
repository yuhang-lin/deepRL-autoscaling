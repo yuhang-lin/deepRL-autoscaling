{
 "cells": [
  {
   "cell_type": "markdown",
   "metadata": {},
   "source": [
    "### Load Libraries"
   ]
  },
  {
   "cell_type": "code",
   "execution_count": 1,
   "metadata": {},
   "outputs": [
    {
     "name": "stderr",
     "output_type": "stream",
     "text": [
      "Using TensorFlow backend.\n"
     ]
    }
   ],
   "source": [
    "import numpy as np\n",
    "import tensorflow as tf\n",
    "from keras.models import Sequential\n",
    "from keras.layers import Dense, Dropout, Flatten, Input\n",
    "from keras.layers import LSTM, SpatialDropout1D \n",
    "from sklearn.model_selection import train_test_split\n",
    "import csv\n",
    "import keras\n",
    "from keras.utils import to_categorical\n",
    "from keras.callbacks import ModelCheckpoint\n",
    "import os\n",
    "from sklearn.metrics import accuracy_score\n",
    "import sys"
   ]
  },
  {
   "cell_type": "markdown",
   "metadata": {},
   "source": [
    "### Load Raw Training Data"
   ]
  },
  {
   "cell_type": "code",
   "execution_count": 2,
   "metadata": {},
   "outputs": [],
   "source": [
    "inpData = []\n",
    "labels = []\n",
    "with open('cdata.csv') as csv_file:\n",
    "    lines = csv.reader(csv_file, delimiter=',')\n",
    "    for row in lines:\n",
    "        labels.append(row[0])\n",
    "        inpData.append(float(row[1]))\n",
    "        "
   ]
  },
  {
   "cell_type": "markdown",
   "metadata": {},
   "source": [
    "### Set the Target Labels"
   ]
  },
  {
   "cell_type": "code",
   "execution_count": 3,
   "metadata": {},
   "outputs": [],
   "source": [
    "minThreshold = 30\n",
    "maxThreshold = 70\n",
    "target = []\n",
    "index = 0\n",
    "while index + 1 < len(inpData):\n",
    "    if inpData[index + 1] > maxThreshold:# Scale Up\n",
    "        target.append(1)\n",
    "    elif inpData[index + 1] < minThreshold: # Scale Down\n",
    "        target.append(-1)\n",
    "    else:\n",
    "        target.append(0)  #Remain same\n",
    "    index += 1"
   ]
  },
  {
   "cell_type": "code",
   "execution_count": null,
   "metadata": {},
   "outputs": [],
   "source": [
    "print(target)"
   ]
  },
  {
   "cell_type": "markdown",
   "metadata": {},
   "source": [
    "### Preprocessing Input Data"
   ]
  },
  {
   "cell_type": "code",
   "execution_count": 4,
   "metadata": {},
   "outputs": [],
   "source": [
    "cpuUsage = []\n",
    "cpuScaling = []\n",
    "historyParam = 50\n",
    "index = historyParam\n",
    "\n",
    "while index<len(inpData):\n",
    "    currRec = [[inpData[i]] for i in range(index-historyParam,index)]\n",
    "    cpuUsage.append(currRec)\n",
    "    index+=1\n",
    "    "
   ]
  },
  {
   "cell_type": "code",
   "execution_count": 5,
   "metadata": {},
   "outputs": [],
   "source": [
    "cpuScaling = target[historyParam-1:len(target)]\n",
    "\n",
    "\n",
    "cpuUsageData = np.array(cpuUsage,dtype = 'float')\n",
    "cpuScaling = np.array(cpuScaling,dtype = 'float')\n",
    "\n",
    "cpuScalingCategorical = to_categorical(cpuScaling, num_classes = 3)"
   ]
  },
  {
   "cell_type": "code",
   "execution_count": 6,
   "metadata": {},
   "outputs": [],
   "source": [
    "#len(inpData)\n",
    "X_train, X_test, y_train, y_test = train_test_split(cpuUsageData , cpuScalingCategorical, test_size=0.05, random_state=42)"
   ]
  },
  {
   "cell_type": "code",
   "execution_count": null,
   "metadata": {},
   "outputs": [],
   "source": [
    "cpuUsageData.shape\n",
    "#np.shape(cpuUsage)"
   ]
  },
  {
   "cell_type": "code",
   "execution_count": null,
   "metadata": {},
   "outputs": [],
   "source": [
    "import pandas\n",
    "testrec = 5\n",
    "print(cpuScalingCategorical[testrec])\n",
    "print(cpuScaling[testrec])\n",
    "print(set(cpuScaling))\n",
    "myseries=pandas.Series(cpuScaling)\n",
    "print(myseries.value_counts())"
   ]
  },
  {
   "cell_type": "code",
   "execution_count": 7,
   "metadata": {},
   "outputs": [
    {
     "name": "stdout",
     "output_type": "stream",
     "text": [
      "WARNING:tensorflow:From /home/ubuntu/anaconda3/envs/tensorflow_p36/lib/python3.6/site-packages/tensorflow/python/framework/op_def_library.py:263: colocate_with (from tensorflow.python.framework.ops) is deprecated and will be removed in a future version.\n",
      "Instructions for updating:\n",
      "Colocations handled automatically by placer.\n",
      "WARNING:tensorflow:From /home/ubuntu/anaconda3/envs/tensorflow_p36/lib/python3.6/site-packages/keras/backend/tensorflow_backend.py:3445: calling dropout (from tensorflow.python.ops.nn_ops) with keep_prob is deprecated and will be removed in a future version.\n",
      "Instructions for updating:\n",
      "Please use `rate` instead of `keep_prob`. Rate should be set to `rate = 1 - keep_prob`.\n",
      "_________________________________________________________________\n",
      "Layer (type)                 Output Shape              Param #   \n",
      "=================================================================\n",
      "input_1 (InputLayer)         (None, 50, 1)             0         \n",
      "_________________________________________________________________\n",
      "lstm_1 (LSTM)                (None, 50, 50)            10400     \n",
      "_________________________________________________________________\n",
      "dense_1 (Dense)              (None, 50, 25)            1275      \n",
      "_________________________________________________________________\n",
      "lstm_2 (LSTM)                (None, 25)                5100      \n",
      "_________________________________________________________________\n",
      "dense_2 (Dense)              (None, 12)                312       \n",
      "_________________________________________________________________\n",
      "dense_3 (Dense)              (None, 3)                 39        \n",
      "=================================================================\n",
      "Total params: 17,126\n",
      "Trainable params: 17,126\n",
      "Non-trainable params: 0\n",
      "_________________________________________________________________\n"
     ]
    }
   ],
   "source": [
    "usageInputLayer = keras.layers.Input(shape=(historyParam,1))\n",
    "#flattened_layer = keras.layers.Flatten()(usageInputLayer)\n",
    "LSTM_1 = keras.layers.LSTM((50),dropout = 0.3, return_sequences = True)(usageInputLayer)\n",
    "full_connect_2 = keras.layers.Dense(25, activation = 'relu')(LSTM_1)\n",
    "LSTM_3 = keras.layers.LSTM(25, return_sequences = False)(full_connect_2)\n",
    "full_connect_3 = keras.layers.Dense(12, activation = 'relu')(LSTM_3)\n",
    "softmax_output = keras.layers.Dense(3,activation='softmax')(full_connect_3)\n",
    "predictionModel = keras.models.Model(inputs=usageInputLayer,outputs=softmax_output)\n",
    "predictionModel.summary()\n"
   ]
  },
  {
   "cell_type": "code",
   "execution_count": 8,
   "metadata": {},
   "outputs": [],
   "source": [
    "def customLoss(rewardInputLayer):\n",
    "    def loss(y_true,y_pred):\n",
    "        tmp_pred = keras.layers.Lambda(lambda x: keras.backend.clip(x,0.05,0.95))(y_pred)\n",
    "        tmp_loss = keras.losses.categorical_crossentropy(y_true, tmp_pred)\n",
    "        policy_loss=keras.layers.Multiply()([tmp_loss,rewardInputLayer])\n",
    "        #policy_loss = tf.reduce_sum(rewardInputLayer,axis =-1)\n",
    "        return policy_loss\n",
    "    return loss"
   ]
  },
  {
   "cell_type": "code",
   "execution_count": 9,
   "metadata": {},
   "outputs": [],
   "source": [
    "rewardInputLayer = keras.layers.Input(shape=(1,),name='rewardInputLayer')\n",
    "TrainingModel = keras.models.Model(inputs=[usageInputLayer,rewardInputLayer],outputs=softmax_output)\n",
    "TrainingModel.compile(optimizer=\"adam\",loss=customLoss(rewardInputLayer))"
   ]
  },
  {
   "cell_type": "code",
   "execution_count": 10,
   "metadata": {},
   "outputs": [
    {
     "name": "stdout",
     "output_type": "stream",
     "text": [
      "_________________________________________________________________\n",
      "Layer (type)                 Output Shape              Param #   \n",
      "=================================================================\n",
      "input_1 (InputLayer)         (None, 50, 1)             0         \n",
      "_________________________________________________________________\n",
      "lstm_1 (LSTM)                (None, 50, 50)            10400     \n",
      "_________________________________________________________________\n",
      "dense_1 (Dense)              (None, 50, 25)            1275      \n",
      "_________________________________________________________________\n",
      "lstm_2 (LSTM)                (None, 25)                5100      \n",
      "_________________________________________________________________\n",
      "dense_2 (Dense)              (None, 12)                312       \n",
      "_________________________________________________________________\n",
      "dense_3 (Dense)              (None, 3)                 39        \n",
      "=================================================================\n",
      "Total params: 17,126\n",
      "Trainable params: 17,126\n",
      "Non-trainable params: 0\n",
      "_________________________________________________________________\n"
     ]
    }
   ],
   "source": [
    "TrainingModel.summary()"
   ]
  },
  {
   "cell_type": "code",
   "execution_count": 16,
   "metadata": {},
   "outputs": [],
   "source": [
    "def generateReward(usage,action,minThreshold,maxThreshold):\n",
    "    if usage[49] > maxThreshold :\n",
    "        if action == 0:\n",
    "            return 1\n",
    "        elif action == -1:\n",
    "            return 2\n",
    "    elif usage[49] < minThreshold: \n",
    "        if action == 0:\n",
    "            return 1\n",
    "        elif action == 1:\n",
    "            return 2\n",
    "    else:\n",
    "        if action != 0:\n",
    "            return 1\n",
    "    return -1\n",
    "\n",
    "\n",
    "def generateReward2(requiredAction,action):\n",
    "    predDict = {0:0,1:1,2:-1}\n",
    "    actualActions = predDict[np.argmax(requiredAction)]\n",
    "    if(actualActions == action):\n",
    "        reward = 1\n",
    "    else:\n",
    "        reward = -abs(actualActions-action)\n",
    "    return reward\n",
    "    \n",
    "def simulateSituation(pModel,tModel,usageArray,minThreshold,maxThreshold):\n",
    "    predDict = {0:0,1:1,2:-1}\n",
    "    #modelInput = np.expand_dims(usageArray,axis=0)\n",
    "    res = pModel.predict(usageArray)\n",
    "    #mapper = lambda x: predDict[x]\n",
    "    actionPredictedOneHot = to_categorical(np.argmax(res,axis = 1),num_classes = 3)\n",
    "    actionPredicted = np.array([predDict[np.argmax(x)] for x in res])\n",
    "    rewardsList = []\n",
    "    #print(actionPredicted,\" \\n\",usageArray[0])\n",
    "    print(len(usageArray))\n",
    "    for i in range(0,len(usageArray)):\n",
    "        #actionReward = generateReward(y_train[i],actionPredicted[i],minThreshold,maxThreshold,)\n",
    "        actionReward = generateReward2(y_train[i],actionPredicted[i])\n",
    "        if actionReward == None:\n",
    "            print(actionPredicted[i],\" \\n\",usageArray[i],\" \", minThreshold,\" \",maxThreshold)\n",
    "            sys.exit()\n",
    "            \n",
    "        rewardsList.append(actionReward)\n",
    "    rewardsArray = np.array(rewardsList)\n",
    "    #print(rewardsArray.shape,\" \",rewardsArray[0])\n",
    "    #if os.path.isfile(\"LSTMRLBestWeights.hdf5\"):\n",
    "    #    print(\"Loading Previous weights!\")\n",
    "    #    tModel.load_weights(\"LSTMRLBestWeights.hdf5\")\n",
    "    history = tModel.fit(x = [usageArray,rewardsArray], y = actionPredictedOneHot,epochs = 2)\n",
    "    #print(usageArray[0],\" \", actionPredicted,\" \\n\", rewardsArray)\n",
    "    return pModel,tModel,res\n",
    "    "
   ]
  },
  {
   "cell_type": "code",
   "execution_count": 17,
   "metadata": {},
   "outputs": [
    {
     "name": "stdout",
     "output_type": "stream",
     "text": [
      "4783\n",
      "Epoch 1/2\n",
      "4783/4783 [==============================] - 16s 3ms/step - loss: 0.0509\n",
      "Epoch 2/2\n",
      "4783/4783 [==============================] - 16s 3ms/step - loss: -0.0015\n",
      "0.8921179176249217\n",
      "0.8690476190476191\n",
      "4783\n",
      "Epoch 1/2\n",
      "4783/4783 [==============================] - 16s 3ms/step - loss: 0.0305\n",
      "Epoch 2/2\n",
      "4783/4783 [==============================] - 16s 3ms/step - loss: 0.0238\n",
      "0.8919088438218691\n",
      "0.8571428571428571\n",
      "4783\n",
      "Epoch 1/2\n",
      "4783/4783 [==============================] - 16s 3ms/step - loss: -5.6427e-04\n",
      "Epoch 2/2\n",
      "4783/4783 [==============================] - 16s 3ms/step - loss: -0.0082\n",
      "0.8896090319882919\n",
      "0.8690476190476191\n",
      "4783\n",
      "Epoch 1/2\n",
      "4783/4783 [==============================] - 16s 3ms/step - loss: 0.0332\n",
      "Epoch 2/2\n",
      "4783/4783 [==============================] - 17s 4ms/step - loss: -0.0288\n",
      "0.8889818105791344\n",
      "0.8690476190476191\n",
      "4783\n",
      "Epoch 1/2\n",
      "4783/4783 [==============================] - 16s 3ms/step - loss: -0.0283\n",
      "Epoch 2/2\n",
      "4783/4783 [==============================] - 16s 3ms/step - loss: -0.0428\n",
      "0.888354589169977\n",
      "0.8611111111111112\n",
      "4783\n",
      "Epoch 1/2\n",
      "4783/4783 [==============================] - 16s 3ms/step - loss: -0.0258\n",
      "Epoch 2/2\n",
      "4783/4783 [==============================] - 16s 3ms/step - loss: -0.0152\n",
      "0.8906544010035543\n",
      "0.873015873015873\n",
      "4783\n",
      "Epoch 1/2\n",
      "4783/4783 [==============================] - 16s 3ms/step - loss: -0.0315\n",
      "Epoch 2/2\n",
      "4783/4783 [==============================] - 16s 3ms/step - loss: -0.0366\n",
      "0.8889818105791344\n",
      "0.8412698412698413\n",
      "4783\n",
      "Epoch 1/2\n",
      "4783/4783 [==============================] - 16s 3ms/step - loss: -0.0315\n",
      "Epoch 2/2\n",
      "4783/4783 [==============================] - 16s 3ms/step - loss: -0.0560\n",
      "0.8879364415638721\n",
      "0.8690476190476191\n",
      "4783\n",
      "Epoch 1/2\n",
      "4783/4783 [==============================] - 16s 3ms/step - loss: 0.0382\n",
      "Epoch 2/2\n",
      "4783/4783 [==============================] - 17s 3ms/step - loss: -0.0100\n",
      "0.8923269914279741\n",
      "0.8690476190476191\n",
      "4783\n",
      "Epoch 1/2\n",
      "4783/4783 [==============================] - 16s 3ms/step - loss: -0.0426\n",
      "Epoch 2/2\n",
      "4783/4783 [==============================] - 16s 3ms/step - loss: -0.0841\n",
      "0.8854275559272423\n",
      "0.8690476190476191\n"
     ]
    }
   ],
   "source": [
    "filepath=\"LSTMRLBestWeights.hdf5\"\n",
    "checkpoint = ModelCheckpoint(filepath, monitor='val_acc', verbose=1, save_best_only=True, mode='max')\n",
    "callbacks_list = [checkpoint]\n",
    "\n",
    "epochs = 10\n",
    "for i in range(epochs):\n",
    "    _,_,modelOutputOneHot = simulateSituation(predictionModel,TrainingModel,X_train,30,70)\n",
    "    #simulateSituation(predictionModel,TrainingModel,X_train,30,70)\n",
    "    res = predictionModel.predict(X_test)\n",
    "    print(accuracy_score(np.argmax(modelOutputOneHot,axis = 1),np.argmax(y_train,axis = 1)))\n",
    "    print(accuracy_score(np.argmax(res,axis = 1),np.argmax(y_test,axis = 1)))"
   ]
  },
  {
   "cell_type": "code",
   "execution_count": 18,
   "metadata": {},
   "outputs": [],
   "source": [
    "predictionModel.save(\"LSTMRLBestWeight.hdf5\")"
   ]
  },
  {
   "cell_type": "code",
   "execution_count": null,
   "metadata": {},
   "outputs": [],
   "source": [
    "if os.path.isfile(\"LSTMRLBestWeight.hdf5\"):\n",
    "    print(\"Loading Previous weights!\")\n",
    "    TrainingModel.load_weights(\"LSTMRLBestWeight.hdf5\")\n",
    "res = predictionModel.predict(X_train)"
   ]
  },
  {
   "cell_type": "code",
   "execution_count": null,
   "metadata": {},
   "outputs": [],
   "source": [
    "accuracy_score(np.argmax(res,axis = 1),np.argmax(y_train,axis = 1))"
   ]
  },
  {
   "cell_type": "code",
   "execution_count": null,
   "metadata": {},
   "outputs": [],
   "source": [
    "print(to_categorical(np.argmax(y_train,axis = 1),num_classes = 3)[:10,:])\n",
    "print(y_train[:10,:])"
   ]
  },
  {
   "cell_type": "code",
   "execution_count": null,
   "metadata": {},
   "outputs": [],
   "source": [
    "np.argmax([[0,0,1],[1,0,0]],axis = 1)"
   ]
  },
  {
   "cell_type": "code",
   "execution_count": null,
   "metadata": {},
   "outputs": [],
   "source": [
    "temp1 = np.array([[]])"
   ]
  },
  {
   "cell_type": "code",
   "execution_count": null,
   "metadata": {},
   "outputs": [],
   "source": [
    "X_train[0].shape"
   ]
  },
  {
   "cell_type": "code",
   "execution_count": null,
   "metadata": {},
   "outputs": [],
   "source": [
    "filepath=\"LSTMBestWeights.hdf5\"\n",
    "checkpoint = ModelCheckpoint(filepath, monitor='val_acc', verbose=1, save_best_only=True, mode='max')\n",
    "callbacks_list = [checkpoint]"
   ]
  },
  {
   "cell_type": "code",
   "execution_count": null,
   "metadata": {},
   "outputs": [],
   "source": [
    "if os.path.isfile(\"LSTMBestWeights.hdf5\"):\n",
    "    print(\"Loading Previous weights!\")\n",
    "    model.load_weights(\"LSTMBestWeights.hdf5\")"
   ]
  },
  {
   "cell_type": "code",
   "execution_count": null,
   "metadata": {},
   "outputs": [],
   "source": [
    "history = model.fit(X_train, y_train, epochs = 15,validation_data = [X_test, y_test], callbacks = callbacks_list,verbose=0)"
   ]
  },
  {
   "cell_type": "code",
   "execution_count": null,
   "metadata": {},
   "outputs": [],
   "source": [
    "X_test.shape\n",
    "np.expand_dims(X_test[0],axis = 0).shape"
   ]
  },
  {
   "cell_type": "code",
   "execution_count": null,
   "metadata": {},
   "outputs": [],
   "source": [
    "res = model.predict(np.expand_dims(X_test[0],axis=0))"
   ]
  },
  {
   "cell_type": "code",
   "execution_count": null,
   "metadata": {},
   "outputs": [],
   "source": [
    "print(res)\n",
    "print(np.argmax(res[0]))"
   ]
  },
  {
   "cell_type": "code",
   "execution_count": null,
   "metadata": {},
   "outputs": [],
   "source": [
    "np.argmax([0,1,0],axis = 0)"
   ]
  },
  {
   "cell_type": "code",
   "execution_count": null,
   "metadata": {},
   "outputs": [],
   "source": [
    "np.argmax(res,axis = 1)"
   ]
  },
  {
   "cell_type": "code",
   "execution_count": null,
   "metadata": {},
   "outputs": [],
   "source": [
    "print(inpData[0+1])"
   ]
  }
 ],
 "metadata": {
  "kernelspec": {
   "display_name": "Environment (conda_tensorflow_p36)",
   "language": "python",
   "name": "conda_tensorflow_p36"
  },
  "language_info": {
   "codemirror_mode": {
    "name": "ipython",
    "version": 3
   },
   "file_extension": ".py",
   "mimetype": "text/x-python",
   "name": "python",
   "nbconvert_exporter": "python",
   "pygments_lexer": "ipython3",
   "version": "3.6.5"
  }
 },
 "nbformat": 4,
 "nbformat_minor": 2
}

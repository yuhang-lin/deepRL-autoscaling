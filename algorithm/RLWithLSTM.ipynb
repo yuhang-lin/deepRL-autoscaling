{
 "cells": [
  {
   "cell_type": "markdown",
   "metadata": {},
   "source": [
    "### Load Libraries"
   ]
  },
  {
   "cell_type": "code",
   "execution_count": 1,
   "metadata": {},
   "outputs": [
    {
     "name": "stderr",
     "output_type": "stream",
     "text": [
      "Using TensorFlow backend.\n"
     ]
    }
   ],
   "source": [
    "import numpy as np\n",
    "import tensorflow as tf\n",
    "from keras.models import Sequential\n",
    "from keras.layers import Dense, Dropout, Flatten, Input\n",
    "from keras.layers import LSTM, SpatialDropout1D \n",
    "from sklearn.model_selection import train_test_split\n",
    "import csv\n",
    "import keras\n",
    "from keras.utils import to_categorical\n",
    "from keras.callbacks import ModelCheckpoint\n",
    "import os\n",
    "from sklearn.metrics import accuracy_score\n",
    "import sys"
   ]
  },
  {
   "cell_type": "markdown",
   "metadata": {},
   "source": [
    "### Load Raw Training Data"
   ]
  },
  {
   "cell_type": "code",
   "execution_count": 2,
   "metadata": {},
   "outputs": [],
   "source": [
    "inpData = []\n",
    "labels = []\n",
    "with open('cdata.csv') as csv_file:\n",
    "    lines = csv.reader(csv_file, delimiter=',')\n",
    "    for row in lines:\n",
    "        labels.append(row[0])\n",
    "        inpData.append(float(row[1]))\n",
    "        "
   ]
  },
  {
   "cell_type": "markdown",
   "metadata": {},
   "source": [
    "### Set the Target Labels"
   ]
  },
  {
   "cell_type": "code",
   "execution_count": 3,
   "metadata": {},
   "outputs": [],
   "source": [
    "minThreshold = 30\n",
    "maxThreshold = 70\n",
    "target = []\n",
    "index = 0\n",
    "while index + 1 < len(inpData):\n",
    "    if inpData[index + 1] > maxThreshold:# Scale Up\n",
    "        target.append(1)\n",
    "    elif inpData[index + 1] < minThreshold: # Scale Down\n",
    "        target.append(-1)\n",
    "    else:\n",
    "        target.append(0)  #Remain same\n",
    "    index += 1"
   ]
  },
  {
   "cell_type": "code",
   "execution_count": null,
   "metadata": {},
   "outputs": [],
   "source": [
    "print(target)"
   ]
  },
  {
   "cell_type": "markdown",
   "metadata": {},
   "source": [
    "### Preprocessing Input Data"
   ]
  },
  {
   "cell_type": "code",
   "execution_count": 4,
   "metadata": {},
   "outputs": [],
   "source": [
    "cpuUsage = []\n",
    "cpuScaling = []\n",
    "historyParam = 50\n",
    "index = historyParam\n",
    "\n",
    "while index<len(inpData):\n",
    "    currRec = [[inpData[i]] for i in range(index-historyParam,index)]\n",
    "    cpuUsage.append(currRec)\n",
    "    index+=1\n",
    "    "
   ]
  },
  {
   "cell_type": "code",
   "execution_count": 6,
   "metadata": {},
   "outputs": [],
   "source": [
    "cpuScaling = target[historyParam-1:len(target)]\n",
    "\n",
    "\n",
    "cpuUsageData = np.array(cpuUsage,dtype = 'float')\n",
    "cpuScaling = np.array(cpuScaling,dtype = 'float')\n",
    "\n",
    "cpuScalingCategorical = to_categorical(cpuScaling, num_classes = 3)"
   ]
  },
  {
   "cell_type": "code",
   "execution_count": 7,
   "metadata": {},
   "outputs": [],
   "source": [
    "#len(inpData)\n",
    "X_train, X_test, y_train, y_test = train_test_split(cpuUsageData , cpuScalingCategorical, test_size=0.10, random_state=42)"
   ]
  },
  {
   "cell_type": "code",
   "execution_count": null,
   "metadata": {},
   "outputs": [],
   "source": [
    "cpuUsageData.shape\n",
    "#np.shape(cpuUsage)"
   ]
  },
  {
   "cell_type": "code",
   "execution_count": null,
   "metadata": {},
   "outputs": [],
   "source": [
    "import pandas\n",
    "testrec = 5\n",
    "print(cpuScalingCategorical[testrec])\n",
    "print(cpuScaling[testrec])\n",
    "print(set(cpuScaling))\n",
    "myseries=pandas.Series(cpuScaling)\n",
    "print(myseries.value_counts())"
   ]
  },
  {
   "cell_type": "code",
   "execution_count": 8,
   "metadata": {},
   "outputs": [
    {
     "name": "stdout",
     "output_type": "stream",
     "text": [
      "WARNING:tensorflow:From /home/ubuntu/anaconda3/envs/tensorflow_p36/lib/python3.6/site-packages/tensorflow/python/framework/op_def_library.py:263: colocate_with (from tensorflow.python.framework.ops) is deprecated and will be removed in a future version.\n",
      "Instructions for updating:\n",
      "Colocations handled automatically by placer.\n",
      "_________________________________________________________________\n",
      "Layer (type)                 Output Shape              Param #   \n",
      "=================================================================\n",
      "input_1 (InputLayer)         (None, 50, 1)             0         \n",
      "_________________________________________________________________\n",
      "lstm_1 (LSTM)                (None, 50, 50)            10400     \n",
      "_________________________________________________________________\n",
      "dense_1 (Dense)              (None, 50, 50)            2550      \n",
      "_________________________________________________________________\n",
      "lstm_2 (LSTM)                (None, 25)                7600      \n",
      "_________________________________________________________________\n",
      "dense_2 (Dense)              (None, 12)                312       \n",
      "_________________________________________________________________\n",
      "dense_3 (Dense)              (None, 6)                 78        \n",
      "_________________________________________________________________\n",
      "dense_4 (Dense)              (None, 3)                 21        \n",
      "=================================================================\n",
      "Total params: 20,961\n",
      "Trainable params: 20,961\n",
      "Non-trainable params: 0\n",
      "_________________________________________________________________\n"
     ]
    }
   ],
   "source": [
    "usageInputLayer = keras.layers.Input(shape=(historyParam,1))\n",
    "#flattened_layer = keras.layers.Flatten()(usageInputLayer)\n",
    "LSTM_1 = keras.layers.LSTM((50), return_sequences = True)(usageInputLayer)\n",
    "full_connect_2 = keras.layers.Dense(50, activation = 'relu')(LSTM_1)\n",
    "LSTM_3 = keras.layers.LSTM(25, return_sequences = False)(full_connect_2)\n",
    "full_connect_3 = keras.layers.Dense(12, activation = 'relu')(LSTM_3)\n",
    "full_connect_4 = keras.layers.Dense(6, activation = 'relu')(full_connect_3)\n",
    "softmax_output = keras.layers.Dense(3,activation='softmax')(full_connect_4)\n",
    "predictionModel = keras.models.Model(inputs=usageInputLayer,outputs=softmax_output)\n",
    "predictionModel.summary()\n"
   ]
  },
  {
   "cell_type": "code",
   "execution_count": 9,
   "metadata": {},
   "outputs": [],
   "source": [
    "def customLoss(rewardInputLayer):\n",
    "    def loss(y_true,y_pred):\n",
    "        tmp_pred = keras.layers.Lambda(lambda x: keras.backend.clip(x,0.05,0.95))(y_pred)\n",
    "        tmp_loss = keras.losses.categorical_crossentropy(y_true, tmp_pred)\n",
    "        policy_loss=keras.layers.Multiply()([tmp_loss,rewardInputLayer])\n",
    "        #policy_loss = tf.reduce_sum(rewardInputLayer,axis =-1)\n",
    "        return policy_loss\n",
    "    return loss"
   ]
  },
  {
   "cell_type": "code",
   "execution_count": 10,
   "metadata": {},
   "outputs": [],
   "source": [
    "rewardInputLayer = keras.layers.Input(shape=(1,),name='rewardInputLayer')\n",
    "TrainingModel = keras.models.Model(inputs=[usageInputLayer,rewardInputLayer],outputs=softmax_output)\n",
    "TrainingModel.compile(optimizer=\"adam\",loss=customLoss(rewardInputLayer))"
   ]
  },
  {
   "cell_type": "code",
   "execution_count": 11,
   "metadata": {},
   "outputs": [
    {
     "name": "stdout",
     "output_type": "stream",
     "text": [
      "_________________________________________________________________\n",
      "Layer (type)                 Output Shape              Param #   \n",
      "=================================================================\n",
      "input_1 (InputLayer)         (None, 50, 1)             0         \n",
      "_________________________________________________________________\n",
      "lstm_1 (LSTM)                (None, 50, 50)            10400     \n",
      "_________________________________________________________________\n",
      "dense_1 (Dense)              (None, 50, 50)            2550      \n",
      "_________________________________________________________________\n",
      "lstm_2 (LSTM)                (None, 25)                7600      \n",
      "_________________________________________________________________\n",
      "dense_2 (Dense)              (None, 12)                312       \n",
      "_________________________________________________________________\n",
      "dense_3 (Dense)              (None, 6)                 78        \n",
      "_________________________________________________________________\n",
      "dense_4 (Dense)              (None, 3)                 21        \n",
      "=================================================================\n",
      "Total params: 20,961\n",
      "Trainable params: 20,961\n",
      "Non-trainable params: 0\n",
      "_________________________________________________________________\n"
     ]
    }
   ],
   "source": [
    "TrainingModel.summary()"
   ]
  },
  {
   "cell_type": "code",
   "execution_count": 12,
   "metadata": {},
   "outputs": [],
   "source": [
    "def generateReward(usage,action,minThreshold,maxThreshold):\n",
    "    if usage[49] > maxThreshold :\n",
    "        if action == 0:\n",
    "            return 1\n",
    "        elif action == -1:\n",
    "            return 2\n",
    "    elif usage[49] < minThreshold: \n",
    "        if action == 0:\n",
    "            return 1\n",
    "        elif action == 1:\n",
    "            return 2\n",
    "    else:\n",
    "        if action != 0:\n",
    "            return 1\n",
    "    return -1\n",
    "\n",
    "\n",
    "def generateReward2(requiredAction,action):\n",
    "    predDict = {0:0,1:1,2:-1}\n",
    "    actualActions = predDict[np.argmax(requiredAction)]\n",
    "    if(actualActions == action):\n",
    "        reward = 1\n",
    "    else:\n",
    "        reward = -abs(actualActions-action)\n",
    "    return reward\n",
    "    \n",
    "def simulateSituation(pModel,tModel,usageArray,minThreshold,maxThreshold):\n",
    "    predDict = {0:0,1:1,2:-1}\n",
    "    #modelInput = np.expand_dims(usageArray,axis=0)\n",
    "    res = pModel.predict(usageArray)\n",
    "    #mapper = lambda x: predDict[x]\n",
    "    actionPredictedOneHot = to_categorical(np.argmax(res,axis = 1),num_classes = 3)\n",
    "    actionPredicted = np.array([predDict[np.argmax(x)] for x in res])\n",
    "    rewardsList = []\n",
    "    #print(actionPredicted,\" \\n\",usageArray[0])\n",
    "    print(len(usageArray))\n",
    "    for i in range(0,len(usageArray)):\n",
    "        #actionReward = generateReward(y_train[i],actionPredicted[i],minThreshold,maxThreshold,)\n",
    "        actionReward = generateReward2(y_train[i],actionPredicted[i])\n",
    "        if actionReward == None:\n",
    "            print(actionPredicted[i],\" \\n\",usageArray[i],\" \", minThreshold,\" \",maxThreshold)\n",
    "            sys.exit()\n",
    "            \n",
    "        rewardsList.append(actionReward)\n",
    "    rewardsArray = np.array(rewardsList)\n",
    "    #print(rewardsArray.shape,\" \",rewardsArray[0])\n",
    "    #if os.path.isfile(\"LSTMRLBestWeights.hdf5\"):\n",
    "    #    print(\"Loading Previous weights!\")\n",
    "    #    tModel.load_weights(\"LSTMRLBestWeights.hdf5\")\n",
    "    history = tModel.fit(x = [usageArray,rewardsArray], y = actionPredictedOneHot,epochs = 1)\n",
    "    #print(usageArray[0],\" \", actionPredicted,\" \\n\", rewardsArray)\n",
    "    return pModel,tModel,res\n",
    "    "
   ]
  },
  {
   "cell_type": "code",
   "execution_count": 13,
   "metadata": {},
   "outputs": [
    {
     "name": "stdout",
     "output_type": "stream",
     "text": [
      "4531\n",
      "WARNING:tensorflow:From /home/ubuntu/anaconda3/envs/tensorflow_p36/lib/python3.6/site-packages/tensorflow/python/ops/math_ops.py:3066: to_int32 (from tensorflow.python.ops.math_ops) is deprecated and will be removed in a future version.\n",
      "Instructions for updating:\n",
      "Use tf.cast instead.\n",
      "Epoch 1/1\n",
      "4531/4531 [==============================] - 19s 4ms/step - loss: -1.7656\n",
      "0.10240564996689472\n",
      "0.7936507936507936\n",
      "4531\n",
      "Epoch 1/1\n",
      "4531/4531 [==============================] - 16s 3ms/step - loss: -0.2383\n",
      "0.8212315162215846\n",
      "0.878968253968254\n",
      "4531\n",
      "Epoch 1/1\n",
      "4531/4531 [==============================] - 15s 3ms/step - loss: 0.0780\n",
      "0.8850143456190687\n",
      "0.8809523809523809\n",
      "4531\n",
      "Epoch 1/1\n",
      "4531/4531 [==============================] - 17s 4ms/step - loss: 0.0153\n",
      "0.8753034650187597\n",
      "0.8829365079365079\n",
      "4531\n",
      "Epoch 1/1\n",
      "4531/4531 [==============================] - 16s 3ms/step - loss: 0.0679\n",
      "0.8814831163098654\n",
      "0.878968253968254\n",
      "4531\n",
      "Epoch 1/1\n",
      "4531/4531 [==============================] - 16s 3ms/step - loss: 0.0492\n",
      "0.883248730964467\n",
      "0.8809523809523809\n",
      "4531\n",
      "Epoch 1/1\n",
      "4531/4531 [==============================] - 16s 3ms/step - loss: 0.0745\n",
      "0.8887662767600971\n",
      "0.9325396825396826\n",
      "4531\n",
      "Epoch 1/1\n",
      "4531/4531 [==============================] - 16s 3ms/step - loss: 0.0150\n",
      "0.9214301478702274\n",
      "0.9384920634920635\n",
      "4531\n",
      "Epoch 1/1\n",
      "4531/4531 [==============================] - 16s 4ms/step - loss: 0.0917\n",
      "0.9404105054071948\n",
      "0.9265873015873016\n",
      "4531\n",
      "Epoch 1/1\n",
      "4531/4531 [==============================] - 16s 4ms/step - loss: 0.0452\n",
      "0.9348929596115648\n",
      "0.9384920634920635\n",
      "4531\n",
      "Epoch 1/1\n",
      "4531/4531 [==============================] - 16s 3ms/step - loss: 0.0901\n",
      "0.9463694548664754\n",
      "0.9424603174603174\n",
      "4531\n",
      "Epoch 1/1\n",
      "4531/4531 [==============================] - 16s 3ms/step - loss: 0.0969\n",
      "0.949238578680203\n",
      "0.9404761904761905\n",
      "4531\n",
      "Epoch 1/1\n",
      "4531/4531 [==============================] - 16s 3ms/step - loss: 0.0890\n",
      "0.9463694548664754\n",
      "0.9464285714285714\n",
      "4531\n",
      "Epoch 1/1\n",
      "4531/4531 [==============================] - 17s 4ms/step - loss: 0.0935\n",
      "0.9494592805120282\n",
      "0.9404761904761905\n",
      "4531\n",
      "Epoch 1/1\n",
      "4531/4531 [==============================] - 16s 3ms/step - loss: 0.0882\n",
      "0.945928051202825\n",
      "0.9404761904761905\n",
      "4531\n",
      "Epoch 1/1\n",
      "4531/4531 [==============================] - 16s 3ms/step - loss: 0.0931\n",
      "0.9512248951666299\n",
      "0.9404761904761905\n",
      "4531\n",
      "Epoch 1/1\n",
      "4531/4531 [==============================] - 16s 4ms/step - loss: 0.0761\n",
      "0.9448245420436989\n",
      "0.9424603174603174\n",
      "4531\n",
      "Epoch 1/1\n",
      "4531/4531 [==============================] - 16s 3ms/step - loss: 0.0928\n",
      "0.9514455969984551\n",
      "0.9444444444444444\n",
      "4531\n",
      "Epoch 1/1\n",
      "4531/4531 [==============================] - 16s 4ms/step - loss: 0.0959\n",
      "0.9499006841756786\n",
      "0.9444444444444444\n",
      "4531\n",
      "Epoch 1/1\n",
      "4531/4531 [==============================] - 16s 4ms/step - loss: 0.0899\n",
      "0.950342087839329\n",
      "0.9444444444444444\n",
      "4531\n",
      "Epoch 1/1\n",
      "4531/4531 [==============================] - 16s 3ms/step - loss: 0.0939\n",
      "0.9507834915029795\n",
      "0.9424603174603174\n",
      "4531\n",
      "Epoch 1/1\n",
      "4531/4531 [==============================] - 16s 4ms/step - loss: 0.0957\n",
      "0.9516662988302803\n",
      "0.9424603174603174\n",
      "4531\n",
      "Epoch 1/1\n",
      "4531/4531 [==============================] - 16s 4ms/step - loss: 0.0895\n",
      "0.9481350695210771\n",
      "0.9424603174603174\n",
      "4531\n",
      "Epoch 1/1\n",
      "4531/4531 [==============================] - 16s 3ms/step - loss: 0.0865\n",
      "0.9487971750165526\n",
      "0.9424603174603174\n",
      "4531\n",
      "Epoch 1/1\n",
      "4531/4531 [==============================] - 16s 4ms/step - loss: 0.0874\n",
      "0.950342087839329\n",
      "0.9424603174603174\n",
      "4531\n",
      "Epoch 1/1\n",
      "4531/4531 [==============================] - 16s 3ms/step - loss: 0.0989\n",
      "0.9512248951666299\n",
      "0.9484126984126984\n",
      "4531\n",
      "Epoch 1/1\n",
      "4531/4531 [==============================] - 16s 3ms/step - loss: 0.0665\n",
      "0.9408519090708453\n",
      "0.9503968253968254\n",
      "4531\n",
      "Epoch 1/1\n",
      "4531/4531 [==============================] - 16s 3ms/step - loss: 0.0744\n",
      "0.9441624365482234\n",
      "0.9424603174603174\n",
      "4531\n",
      "Epoch 1/1\n",
      "4531/4531 [==============================] - 16s 4ms/step - loss: 0.0917\n",
      "0.9510041933348047\n",
      "0.9444444444444444\n",
      "4531\n",
      "Epoch 1/1\n",
      "4531/4531 [==============================] - 16s 4ms/step - loss: 0.0948\n",
      "0.9514455969984551\n",
      "0.9424603174603174\n",
      "4531\n",
      "Epoch 1/1\n",
      "4531/4531 [==============================] - 16s 3ms/step - loss: 0.0834\n",
      "0.9468108585301258\n",
      "0.9464285714285714\n",
      "4531\n",
      "Epoch 1/1\n",
      "4531/4531 [==============================] - 16s 4ms/step - loss: 0.0897\n",
      "0.9499006841756786\n",
      "0.9444444444444444\n",
      "4531\n",
      "Epoch 1/1\n",
      "4531/4531 [==============================] - 17s 4ms/step - loss: 0.0905\n",
      "0.9505627896711543\n",
      "0.9444444444444444\n",
      "4531\n",
      "Epoch 1/1\n",
      "4531/4531 [==============================] - 16s 3ms/step - loss: 0.0960\n",
      "0.950342087839329\n",
      "0.9384920634920635\n",
      "4531\n",
      "Epoch 1/1\n",
      "4531/4531 [==============================] - 16s 3ms/step - loss: 0.0936\n",
      "0.9501213860075038\n",
      "0.9464285714285714\n",
      "4531\n",
      "Epoch 1/1\n",
      "4531/4531 [==============================] - 16s 4ms/step - loss: 0.0831\n",
      "0.9421761200617965\n",
      "0.9424603174603174\n",
      "4531\n",
      "Epoch 1/1\n",
      "4531/4531 [==============================] - 16s 4ms/step - loss: 0.0956\n",
      "0.9523284043257559\n",
      "0.9404761904761905\n",
      "4531\n",
      "Epoch 1/1\n",
      "4531/4531 [==============================] - 16s 3ms/step - loss: 0.0948\n",
      "0.950342087839329\n",
      "0.9404761904761905\n",
      "4531\n",
      "Epoch 1/1\n",
      "4531/4531 [==============================] - 16s 3ms/step - loss: 0.0928\n",
      "0.9523284043257559\n",
      "0.9384920634920635\n",
      "4531\n",
      "Epoch 1/1\n",
      "4531/4531 [==============================] - 16s 4ms/step - loss: 0.0801\n",
      "0.943721032884573\n",
      "0.9404761904761905\n"
     ]
    }
   ],
   "source": [
    "#filepath=\"LSTMRLBestWeights.hdf5\"\n",
    "#checkpoint = ModelCheckpoint(filepath, monitor='val_acc', verbose=1, save_best_only=True, mode='max')\n",
    "#callbacks_list = [checkpoint]\n",
    "\n",
    "epochs = 40\n",
    "for i in range(epochs):\n",
    "    _,_,modelOutputOneHot = simulateSituation(predictionModel,TrainingModel,X_train,30,70)\n",
    "    #simulateSituation(predictionModel,TrainingModel,X_train,30,70)\n",
    "    res = predictionModel.predict(X_test)\n",
    "    print(accuracy_score(np.argmax(modelOutputOneHot,axis = 1),np.argmax(y_train,axis = 1)))\n",
    "    print(accuracy_score(np.argmax(res,axis = 1),np.argmax(y_test,axis = 1)))"
   ]
  },
  {
   "cell_type": "code",
   "execution_count": 14,
   "metadata": {},
   "outputs": [],
   "source": [
    "predictionModel.save(\"LSTMV2RLBestWeights.hdf5\")"
   ]
  },
  {
   "cell_type": "code",
   "execution_count": null,
   "metadata": {},
   "outputs": [],
   "source": [
    "if os.path.isfile(\"LSTMRLBestWeight.hdf5\"):\n",
    "    print(\"Loading Previous weights!\")\n",
    "    TrainingModel.load_weights(\"LSTMRLBestWeight.hdf5\")\n",
    "res = predictionModel.predict(X_train)"
   ]
  },
  {
   "cell_type": "code",
   "execution_count": null,
   "metadata": {},
   "outputs": [],
   "source": [
    "accuracy_score(np.argmax(res,axis = 1),np.argmax(y_train,axis = 1))"
   ]
  },
  {
   "cell_type": "code",
   "execution_count": null,
   "metadata": {},
   "outputs": [],
   "source": [
    "print(to_categorical(np.argmax(y_train,axis = 1),num_classes = 3)[:10,:])\n",
    "print(y_train[:10,:])"
   ]
  },
  {
   "cell_type": "code",
   "execution_count": null,
   "metadata": {},
   "outputs": [],
   "source": [
    "np.argmax([[0,0,1],[1,0,0]],axis = 1)"
   ]
  },
  {
   "cell_type": "code",
   "execution_count": null,
   "metadata": {},
   "outputs": [],
   "source": [
    "temp1 = np.array([[]])"
   ]
  },
  {
   "cell_type": "code",
   "execution_count": null,
   "metadata": {},
   "outputs": [],
   "source": [
    "X_train[0].shape"
   ]
  },
  {
   "cell_type": "code",
   "execution_count": null,
   "metadata": {},
   "outputs": [],
   "source": [
    "filepath=\"LSTMBestWeights.hdf5\"\n",
    "checkpoint = ModelCheckpoint(filepath, monitor='val_acc', verbose=1, save_best_only=True, mode='max')\n",
    "callbacks_list = [checkpoint]"
   ]
  },
  {
   "cell_type": "code",
   "execution_count": null,
   "metadata": {},
   "outputs": [],
   "source": [
    "if os.path.isfile(\"LSTMBestWeights.hdf5\"):\n",
    "    print(\"Loading Previous weights!\")\n",
    "    model.load_weights(\"LSTMBestWeights.hdf5\")"
   ]
  },
  {
   "cell_type": "code",
   "execution_count": null,
   "metadata": {},
   "outputs": [],
   "source": [
    "history = model.fit(X_train, y_train, epochs = 15,validation_data = [X_test, y_test], callbacks = callbacks_list,verbose=0)"
   ]
  },
  {
   "cell_type": "code",
   "execution_count": null,
   "metadata": {},
   "outputs": [],
   "source": [
    "X_test.shape\n",
    "np.expand_dims(X_test[0],axis = 0).shape"
   ]
  },
  {
   "cell_type": "code",
   "execution_count": null,
   "metadata": {},
   "outputs": [],
   "source": [
    "res = model.predict(np.expand_dims(X_test[0],axis=0))"
   ]
  },
  {
   "cell_type": "code",
   "execution_count": null,
   "metadata": {},
   "outputs": [],
   "source": [
    "print(res)\n",
    "print(np.argmax(res[0]))"
   ]
  },
  {
   "cell_type": "code",
   "execution_count": null,
   "metadata": {},
   "outputs": [],
   "source": [
    "np.argmax([0,1,0],axis = 0)"
   ]
  },
  {
   "cell_type": "code",
   "execution_count": null,
   "metadata": {},
   "outputs": [],
   "source": [
    "np.argmax(res,axis = 1)"
   ]
  },
  {
   "cell_type": "code",
   "execution_count": null,
   "metadata": {},
   "outputs": [],
   "source": [
    "print(inpData[0+1])"
   ]
  }
 ],
 "metadata": {
  "kernelspec": {
   "display_name": "Environment (conda_tensorflow_p36)",
   "language": "python",
   "name": "conda_tensorflow_p36"
  },
  "language_info": {
   "codemirror_mode": {
    "name": "ipython",
    "version": 3
   },
   "file_extension": ".py",
   "mimetype": "text/x-python",
   "name": "python",
   "nbconvert_exporter": "python",
   "pygments_lexer": "ipython3",
   "version": "3.6.5"
  }
 },
 "nbformat": 4,
 "nbformat_minor": 2
}

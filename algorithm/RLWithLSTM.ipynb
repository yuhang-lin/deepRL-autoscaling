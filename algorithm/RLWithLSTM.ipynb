{
 "cells": [
  {
   "cell_type": "markdown",
   "metadata": {},
   "source": [
    "### Load Libraries"
   ]
  },
  {
   "cell_type": "code",
   "execution_count": 1,
   "metadata": {},
   "outputs": [
    {
     "name": "stderr",
     "output_type": "stream",
     "text": [
      "Using TensorFlow backend.\n"
     ]
    }
   ],
   "source": [
    "import numpy as np\n",
    "import tensorflow as tf\n",
    "from keras.models import Sequential\n",
    "from keras.layers import Dense, Dropout, Flatten, Input\n",
    "from keras.layers import LSTM, SpatialDropout1D \n",
    "from sklearn.model_selection import train_test_split\n",
    "import csv\n",
    "import keras\n",
    "from keras.utils import to_categorical\n",
    "from keras.callbacks import ModelCheckpoint\n",
    "import os\n",
    "from sklearn.metrics import accuracy_score\n",
    "import sys"
   ]
  },
  {
   "cell_type": "markdown",
   "metadata": {},
   "source": [
    "### Load Raw Training Data"
   ]
  },
  {
   "cell_type": "code",
   "execution_count": 2,
   "metadata": {},
   "outputs": [],
   "source": [
    "inpData = []\n",
    "labels = []\n",
    "\n",
    "'''\n",
    "with open('cdata.csv') as csv_file:\n",
    "    lines = csv.reader(csv_file, delimiter=',')\n",
    "    for row in lines:\n",
    "        labels.append(row[0])\n",
    "        inpData.append(float(row[1]))\n",
    "'''\n",
    "inpDataArray = np.loadtxt(\"usageData.csv\",delimiter = ',') \n",
    "\n",
    "    "
   ]
  },
  {
   "cell_type": "code",
   "execution_count": 3,
   "metadata": {},
   "outputs": [
    {
     "data": {
      "text/plain": [
       "(11818, 4)"
      ]
     },
     "execution_count": 3,
     "metadata": {},
     "output_type": "execute_result"
    }
   ],
   "source": [
    "inpDataArray.shape"
   ]
  },
  {
   "cell_type": "markdown",
   "metadata": {},
   "source": [
    "### Set the Target Labels"
   ]
  },
  {
   "cell_type": "code",
   "execution_count": 4,
   "metadata": {},
   "outputs": [],
   "source": [
    "minThreshold = 30\n",
    "maxThreshold = 70\n",
    "target = []\n",
    "cpuUsage = []\n",
    "historyParam = 50\n",
    "for i in range(0,inpDataArray.shape[1]):\n",
    "    inpData = inpDataArray[:,i]\n",
    "    index = historyParam\n",
    "    while index < len(inpData):\n",
    "        currRec = inpData[index-historyParam:index]\n",
    "        if inpData[index] > maxThreshold:# Scale Up\n",
    "            target.append(1)\n",
    "        elif inpData[index] < minThreshold: # Scale Down\n",
    "            target.append(-1)\n",
    "        else:\n",
    "            target.append(0)  #Remain same\n",
    "        cpuUsage.append(currRec)\n",
    "        index += 1"
   ]
  },
  {
   "cell_type": "code",
   "execution_count": 5,
   "metadata": {},
   "outputs": [
    {
     "name": "stdout",
     "output_type": "stream",
     "text": [
      "(47072,)\n",
      "(47072, 50, 1)\n"
     ]
    }
   ],
   "source": [
    "cpuUsageData = np.expand_dims(np.array(cpuUsage,dtype = 'float'),axis = 2)\n",
    "cpuScaling = np.array(target,dtype = 'float')\n",
    "print(cpuScaling.shape)\n",
    "print(cpuUsageData.shape)\n",
    "\n",
    "cpuScalingCategorical = to_categorical(cpuScaling, num_classes = 3)"
   ]
  },
  {
   "cell_type": "markdown",
   "metadata": {},
   "source": [
    "### Preprocessing Input Data"
   ]
  },
  {
   "cell_type": "code",
   "execution_count": 6,
   "metadata": {},
   "outputs": [
    {
     "data": {
      "text/plain": [
       "'cpuUsage = []\\ncpuScaling = []\\nhistoryParam = 50\\nindex = historyParam\\n\\nwhile index<len(inpData):\\n    currRec = [[inpData[i]] for i in range(index-historyParam,index)]\\n    cpuUsage.append(currRec)\\n    index+=1'"
      ]
     },
     "execution_count": 6,
     "metadata": {},
     "output_type": "execute_result"
    }
   ],
   "source": [
    "'''cpuUsage = []\n",
    "cpuScaling = []\n",
    "historyParam = 50\n",
    "index = historyParam\n",
    "\n",
    "while index<len(inpData):\n",
    "    currRec = [[inpData[i]] for i in range(index-historyParam,index)]\n",
    "    cpuUsage.append(currRec)\n",
    "    index+=1'''\n",
    "    "
   ]
  },
  {
   "cell_type": "code",
   "execution_count": 7,
   "metadata": {},
   "outputs": [
    {
     "data": {
      "text/plain": [
       "\"cpuScaling = target[historyParam-1:len(target)]\\n\\n\\ncpuUsageData = np.array(cpuUsage,dtype = 'float')\\ncpuScaling = np.array(cpuScaling,dtype = 'float')\\n\\ncpuScalingCategorical = to_categorical(cpuScaling, num_classes = 3)\""
      ]
     },
     "execution_count": 7,
     "metadata": {},
     "output_type": "execute_result"
    }
   ],
   "source": [
    "'''cpuScaling = target[historyParam-1:len(target)]\n",
    "\n",
    "\n",
    "cpuUsageData = np.array(cpuUsage,dtype = 'float')\n",
    "cpuScaling = np.array(cpuScaling,dtype = 'float')\n",
    "\n",
    "cpuScalingCategorical = to_categorical(cpuScaling, num_classes = 3)'''"
   ]
  },
  {
   "cell_type": "code",
   "execution_count": 8,
   "metadata": {},
   "outputs": [],
   "source": [
    "#len(inpData)\n",
    "X_train, X_test, y_train, y_test = train_test_split(cpuUsageData , cpuScalingCategorical, test_size=0.10, random_state=42)"
   ]
  },
  {
   "cell_type": "code",
   "execution_count": 9,
   "metadata": {},
   "outputs": [
    {
     "data": {
      "text/plain": [
       "(47072, 50, 1)"
      ]
     },
     "execution_count": 9,
     "metadata": {},
     "output_type": "execute_result"
    }
   ],
   "source": [
    "cpuUsageData.shape\n",
    "#np.shape(cpuUsage)"
   ]
  },
  {
   "cell_type": "code",
   "execution_count": 10,
   "metadata": {},
   "outputs": [
    {
     "name": "stdout",
     "output_type": "stream",
     "text": [
      "[1. 0. 0.]\n",
      "0.0\n",
      "{0.0, 1.0, -1.0}\n",
      " 0.0    20761\n",
      "-1.0    13176\n",
      " 1.0    13135\n",
      "dtype: int64\n"
     ]
    }
   ],
   "source": [
    "import pandas\n",
    "testrec = 5\n",
    "print(cpuScalingCategorical[testrec])\n",
    "print(cpuScaling[testrec])\n",
    "print(set(cpuScaling))\n",
    "myseries=pandas.Series(cpuScaling)\n",
    "print(myseries.value_counts())"
   ]
  },
  {
   "cell_type": "code",
   "execution_count": 11,
   "metadata": {},
   "outputs": [
    {
     "name": "stdout",
     "output_type": "stream",
     "text": [
      "WARNING:tensorflow:From /home/ubuntu/anaconda3/envs/tensorflow_p36/lib/python3.6/site-packages/tensorflow/python/framework/op_def_library.py:263: colocate_with (from tensorflow.python.framework.ops) is deprecated and will be removed in a future version.\n",
      "Instructions for updating:\n",
      "Colocations handled automatically by placer.\n",
      "_________________________________________________________________\n",
      "Layer (type)                 Output Shape              Param #   \n",
      "=================================================================\n",
      "input_1 (InputLayer)         (None, 50, 1)             0         \n",
      "_________________________________________________________________\n",
      "lstm_1 (LSTM)                (None, 50, 50)            10400     \n",
      "_________________________________________________________________\n",
      "dense_1 (Dense)              (None, 50, 25)            1275      \n",
      "_________________________________________________________________\n",
      "lstm_2 (LSTM)                (None, 25)                5100      \n",
      "_________________________________________________________________\n",
      "dense_2 (Dense)              (None, 12)                312       \n",
      "_________________________________________________________________\n",
      "dense_3 (Dense)              (None, 6)                 78        \n",
      "_________________________________________________________________\n",
      "dense_4 (Dense)              (None, 3)                 21        \n",
      "=================================================================\n",
      "Total params: 17,186\n",
      "Trainable params: 17,186\n",
      "Non-trainable params: 0\n",
      "_________________________________________________________________\n"
     ]
    }
   ],
   "source": [
    "usageInputLayer = keras.layers.Input(shape=(historyParam,1))\n",
    "#flattened_layer = keras.layers.Flatten()(usageInputLayer)\n",
    "LSTM_1 = keras.layers.LSTM((50), return_sequences = True)(usageInputLayer)\n",
    "full_connect_2 = keras.layers.Dense(25, activation = 'relu',kernel_initializer='he_normal')(LSTM_1)\n",
    "LSTM_3 = keras.layers.LSTM(25, return_sequences = False)(full_connect_2)\n",
    "full_connect_3 = keras.layers.Dense(12, activation = 'relu',kernel_initializer='he_normal')(LSTM_3)\n",
    "full_connect_4 = keras.layers.Dense(6, activation = 'relu',kernel_initializer='he_normal')(full_connect_3)\n",
    "softmax_output = keras.layers.Dense(3,activation='softmax',kernel_initializer='he_normal')(full_connect_4)\n",
    "predictionModel = keras.models.Model(inputs=usageInputLayer,outputs=softmax_output)\n",
    "predictionModel.summary()\n"
   ]
  },
  {
   "cell_type": "code",
   "execution_count": 12,
   "metadata": {},
   "outputs": [],
   "source": [
    "def customLoss(rewardInputLayer):\n",
    "    def loss(y_true,y_pred):\n",
    "        tmp_pred = keras.layers.Lambda(lambda x: keras.backend.clip(x,0.05,0.95))(y_pred)\n",
    "        tmp_loss = keras.losses.categorical_crossentropy(y_true, tmp_pred)\n",
    "        policy_loss=keras.layers.Multiply()([tmp_loss,rewardInputLayer])\n",
    "        #policy_loss = tf.reduce_sum(rewardInputLayer,axis =-1)\n",
    "        return policy_loss\n",
    "    return loss"
   ]
  },
  {
   "cell_type": "code",
   "execution_count": 13,
   "metadata": {},
   "outputs": [],
   "source": [
    "rewardInputLayer = keras.layers.Input(shape=(1,),name='rewardInputLayer')\n",
    "TrainingModel = keras.models.Model(inputs=[usageInputLayer,rewardInputLayer],outputs=softmax_output)\n",
    "TrainingModel.compile(optimizer=\"adam\",loss=customLoss(rewardInputLayer))"
   ]
  },
  {
   "cell_type": "code",
   "execution_count": 14,
   "metadata": {},
   "outputs": [
    {
     "name": "stdout",
     "output_type": "stream",
     "text": [
      "_________________________________________________________________\n",
      "Layer (type)                 Output Shape              Param #   \n",
      "=================================================================\n",
      "input_1 (InputLayer)         (None, 50, 1)             0         \n",
      "_________________________________________________________________\n",
      "lstm_1 (LSTM)                (None, 50, 50)            10400     \n",
      "_________________________________________________________________\n",
      "dense_1 (Dense)              (None, 50, 25)            1275      \n",
      "_________________________________________________________________\n",
      "lstm_2 (LSTM)                (None, 25)                5100      \n",
      "_________________________________________________________________\n",
      "dense_2 (Dense)              (None, 12)                312       \n",
      "_________________________________________________________________\n",
      "dense_3 (Dense)              (None, 6)                 78        \n",
      "_________________________________________________________________\n",
      "dense_4 (Dense)              (None, 3)                 21        \n",
      "=================================================================\n",
      "Total params: 17,186\n",
      "Trainable params: 17,186\n",
      "Non-trainable params: 0\n",
      "_________________________________________________________________\n"
     ]
    }
   ],
   "source": [
    "TrainingModel.summary()"
   ]
  },
  {
   "cell_type": "code",
   "execution_count": 16,
   "metadata": {},
   "outputs": [],
   "source": [
    "def generateReward(usage,action,minThreshold,maxThreshold):\n",
    "    if usage[49] > maxThreshold :\n",
    "        if action == 0:\n",
    "            return 1\n",
    "        elif action == -1:\n",
    "            return 2\n",
    "    elif usage[49] < minThreshold: \n",
    "        if action == 0:\n",
    "            return 1\n",
    "        elif action == 1:\n",
    "            return 2\n",
    "    else:\n",
    "        if action != 0:\n",
    "            return 1\n",
    "    return -1\n",
    "\n",
    "\n",
    "def generateReward2(requiredAction,action):\n",
    "    predDict = {0:0,1:1,2:-1}\n",
    "    actualActions = predDict[np.argmax(requiredAction)]\n",
    "    if(actualActions == action):\n",
    "        reward = 1\n",
    "    else:\n",
    "        reward = -1\n",
    "    return reward\n",
    "    \n",
    "def simulateSituation(pModel,tModel,usageArray,minThreshold,maxThreshold):\n",
    "    predDict = {0:0,1:1,2:-1}\n",
    "    #modelInput = np.expand_dims(usageArray,axis=0)\n",
    "    res = pModel.predict(usageArray)\n",
    "    #mapper = lambda x: predDict[x]\n",
    "    actionPredictedOneHot = to_categorical(np.argmax(res,axis = 1),num_classes = 3)\n",
    "    actionPredicted = np.array([predDict[np.argmax(x)] for x in res])\n",
    "    rewardsList = []\n",
    "    #print(actionPredicted,\" \\n\",usageArray[0])\n",
    "    print(len(usageArray))\n",
    "    for i in range(0,len(usageArray)):\n",
    "        #actionReward = generateReward(y_train[i],actionPredicted[i],minThreshold,maxThreshold,)\n",
    "        actionReward = generateReward2(y_train[i],actionPredicted[i])\n",
    "        if actionReward == None:\n",
    "            print(actionPredicted[i],\" \\n\",usageArray[i],\" \", minThreshold,\" \",maxThreshold)\n",
    "            sys.exit()\n",
    "            \n",
    "        rewardsList.append(actionReward)\n",
    "    rewardsArray = np.array(rewardsList)\n",
    "    \n",
    "    actionSeries = pandas.Series(actionPredicted)\n",
    "    print(actionSeries.value_counts())\n",
    "    rewardSeries = pandas.Series(rewardsList)\n",
    "    print(rewardSeries.value_counts())\n",
    "    \n",
    "    #print(rewardsArray.shape,\" \",rewardsArray[0])\n",
    "    #if os.path.isfile(\"LSTMRLBestWeights.hdf5\"):\n",
    "    #    print(\"Loading Previous weights!\")\n",
    "    #    tModel.load_weights(\"LSTMRLBestWeights.hdf5\")\n",
    "    history = tModel.fit(x = [usageArray,rewardsArray], y = actionPredictedOneHot,epochs = 1,batch_size = 1000)\n",
    "    #print(usageArray[0],\" \", actionPredicted,\" \\n\", rewardsArray)\n",
    "    return pModel,tModel,res\n",
    "    "
   ]
  },
  {
   "cell_type": "code",
   "execution_count": 17,
   "metadata": {},
   "outputs": [
    {
     "name": "stdout",
     "output_type": "stream",
     "text": [
      "42364\n",
      " 0    41590\n",
      "-1      698\n",
      " 1       76\n",
      "dtype: int64\n",
      "-1    24071\n",
      " 1    18293\n",
      "dtype: int64\n",
      "WARNING:tensorflow:From /home/ubuntu/anaconda3/envs/tensorflow_p36/lib/python3.6/site-packages/tensorflow/python/ops/math_ops.py:3066: to_int32 (from tensorflow.python.ops.math_ops) is deprecated and will be removed in a future version.\n",
      "Instructions for updating:\n",
      "Use tf.cast instead.\n",
      "Epoch 1/1\n",
      "42364/42364 [==============================] - 21s 499us/step - loss: -0.2806\n",
      "0.4318053063922198\n",
      "0.8612999150382328\n",
      "42364\n",
      " 0    20925\n",
      "-1    10834\n",
      " 1    10605\n",
      "dtype: int64\n",
      " 1    36805\n",
      "-1     5559\n",
      "dtype: int64\n",
      "Epoch 1/1\n",
      "42364/42364 [==============================] - 27s 643us/step - loss: 0.1786\n",
      "0.8687800963081862\n",
      "0.862999150382328\n",
      "42364\n",
      " 0    21115\n",
      "-1    10644\n",
      " 1    10605\n",
      "dtype: int64\n",
      " 1    36806\n",
      "-1     5558\n",
      "dtype: int64\n",
      "Epoch 1/1\n",
      "42364/42364 [==============================] - 42s 980us/step - loss: 0.0751\n",
      "0.8688037012557832\n",
      "0.8638487680543755\n",
      "42364\n",
      " 0    21056\n",
      "-1    10703\n",
      " 1    10605\n",
      "dtype: int64\n",
      " 1    36817\n",
      "-1     5547\n",
      "dtype: int64\n",
      "Epoch 1/1\n",
      "42364/42364 [==============================] - 41s 979us/step - loss: 0.0743\n",
      "0.8690633556793504\n",
      "0.8634239592183517\n",
      "42364\n",
      " 0    21027\n",
      "-1    10732\n",
      " 1    10605\n",
      "dtype: int64\n",
      " 1    36839\n",
      "-1     5525\n",
      "dtype: int64\n",
      "Epoch 1/1\n",
      "42364/42364 [==============================] - 17s 410us/step - loss: 0.0553\n",
      "0.8695826645264848\n",
      "0.9156754460492779\n",
      "42364\n",
      " 0    20169\n",
      "-1    11520\n",
      " 1    10675\n",
      "dtype: int64\n",
      " 1    38835\n",
      "-1     3529\n",
      "dtype: int64\n",
      "Epoch 1/1\n",
      "42364/42364 [==============================] - 17s 411us/step - loss: 0.0738\n",
      "0.9166981399301294\n",
      "0.9415887850467289\n",
      "42364\n",
      " 0    19998\n",
      "-1    11761\n",
      " 1    10605\n",
      "dtype: int64\n",
      " 1    39780\n",
      "-1     2584\n",
      "dtype: int64\n",
      "Epoch 1/1\n",
      "42364/42364 [==============================] - 20s 472us/step - loss: 0.0958\n",
      "0.9390048154093098\n",
      "0.9415887850467289\n",
      "42364\n",
      " 0    19977\n",
      "-1    11782\n",
      " 1    10605\n",
      "dtype: int64\n",
      " 1    39815\n",
      "-1     2549\n",
      "dtype: int64\n",
      "Epoch 1/1\n",
      "42364/42364 [==============================] - 17s 411us/step - loss: 0.0937\n",
      "0.9398309885752054\n",
      "0.9396771452846219\n",
      "42364\n",
      " 0    19669\n",
      "-1    12090\n",
      " 1    10605\n",
      "dtype: int64\n",
      " 1    39664\n",
      "-1     2700\n",
      "dtype: int64\n",
      "Epoch 1/1\n",
      "42364/42364 [==============================] - 17s 410us/step - loss: 0.0856\n",
      "0.9362666414880559\n",
      "0.9373406966864911\n",
      "42364\n",
      " 0    20239\n",
      "-1    11520\n",
      " 1    10605\n",
      "dtype: int64\n",
      " 1    39648\n",
      "-1     2716\n",
      "dtype: int64\n",
      "Epoch 1/1\n",
      "42364/42364 [==============================] - 18s 416us/step - loss: 0.0860\n",
      "0.9358889623265036\n",
      "0.9386151231945624\n"
     ]
    }
   ],
   "source": [
    "#filepath=\"LSTMRLBestWeights.hdf5\"\n",
    "#checkpoint = ModelCheckpoint(filepath, monitor='val_acc', verbose=1, save_best_only=True, mode='max')\n",
    "#callbacks_list = [checkpoint]\n",
    "\n",
    "epochs = 10\n",
    "for i in range(epochs):\n",
    "    _,_,modelOutputOneHot = simulateSituation(predictionModel,TrainingModel,X_train,30,70)\n",
    "    #simulateSituation(predictionModel,TrainingModel,X_train,30,70)\n",
    "    res = predictionModel.predict(X_test)\n",
    "    print(accuracy_score(np.argmax(modelOutputOneHot,axis = 1),np.argmax(y_train,axis = 1)))\n",
    "    print(accuracy_score(np.argmax(res,axis = 1),np.argmax(y_test,axis = 1)))"
   ]
  },
  {
   "cell_type": "code",
   "execution_count": 18,
   "metadata": {},
   "outputs": [],
   "source": [
    "predictionModel.save(\"LSTMV3RLBestWeights.hdf5\")"
   ]
  },
  {
   "cell_type": "code",
   "execution_count": null,
   "metadata": {},
   "outputs": [],
   "source": [
    "if os.path.isfile(\"LSTMRLBestWeight.hdf5\"):\n",
    "    print(\"Loading Previous weights!\")\n",
    "    TrainingModel.load_weights(\"LSTMRLBestWeight.hdf5\")\n",
    "res = predictionModel.predict(X_train)"
   ]
  },
  {
   "cell_type": "code",
   "execution_count": null,
   "metadata": {},
   "outputs": [],
   "source": [
    "accuracy_score(np.argmax(res,axis = 1),np.argmax(y_train,axis = 1))"
   ]
  },
  {
   "cell_type": "code",
   "execution_count": null,
   "metadata": {},
   "outputs": [],
   "source": [
    "print(to_categorical(np.argmax(y_train,axis = 1),num_classes = 3)[:10,:])\n",
    "print(y_train[:10,:])"
   ]
  },
  {
   "cell_type": "code",
   "execution_count": null,
   "metadata": {},
   "outputs": [],
   "source": [
    "np.argmax([[0,0,1],[1,0,0]],axis = 1)"
   ]
  },
  {
   "cell_type": "code",
   "execution_count": null,
   "metadata": {},
   "outputs": [],
   "source": [
    "temp1 = np.array([[]])"
   ]
  },
  {
   "cell_type": "code",
   "execution_count": null,
   "metadata": {},
   "outputs": [],
   "source": [
    "X_train[0].shape"
   ]
  },
  {
   "cell_type": "code",
   "execution_count": null,
   "metadata": {},
   "outputs": [],
   "source": [
    "filepath=\"LSTMBestWeights.hdf5\"\n",
    "checkpoint = ModelCheckpoint(filepath, monitor='val_acc', verbose=1, save_best_only=True, mode='max')\n",
    "callbacks_list = [checkpoint]"
   ]
  },
  {
   "cell_type": "code",
   "execution_count": null,
   "metadata": {},
   "outputs": [],
   "source": [
    "if os.path.isfile(\"LSTMBestWeights.hdf5\"):\n",
    "    print(\"Loading Previous weights!\")\n",
    "    model.load_weights(\"LSTMBestWeights.hdf5\")"
   ]
  },
  {
   "cell_type": "code",
   "execution_count": null,
   "metadata": {},
   "outputs": [],
   "source": [
    "history = model.fit(X_train, y_train, epochs = 15,validation_data = [X_test, y_test], callbacks = callbacks_list,verbose=0)"
   ]
  },
  {
   "cell_type": "code",
   "execution_count": null,
   "metadata": {},
   "outputs": [],
   "source": [
    "X_test.shape\n",
    "np.expand_dims(X_test[0],axis = 0).shape"
   ]
  },
  {
   "cell_type": "code",
   "execution_count": null,
   "metadata": {},
   "outputs": [],
   "source": [
    "res = model.predict(np.expand_dims(X_test[0],axis=0))"
   ]
  },
  {
   "cell_type": "code",
   "execution_count": null,
   "metadata": {},
   "outputs": [],
   "source": [
    "print(res)\n",
    "print(np.argmax(res[0]))"
   ]
  },
  {
   "cell_type": "code",
   "execution_count": null,
   "metadata": {},
   "outputs": [],
   "source": [
    "np.argmax([0,1,0],axis = 0)"
   ]
  },
  {
   "cell_type": "code",
   "execution_count": null,
   "metadata": {},
   "outputs": [],
   "source": [
    "np.argmax(res,axis = 1)"
   ]
  },
  {
   "cell_type": "code",
   "execution_count": null,
   "metadata": {},
   "outputs": [],
   "source": [
    "print(inpData[0+1])"
   ]
  }
 ],
 "metadata": {
  "kernelspec": {
   "display_name": "Environment (conda_tensorflow_p36)",
   "language": "python",
   "name": "conda_tensorflow_p36"
  },
  "language_info": {
   "codemirror_mode": {
    "name": "ipython",
    "version": 3
   },
   "file_extension": ".py",
   "mimetype": "text/x-python",
   "name": "python",
   "nbconvert_exporter": "python",
   "pygments_lexer": "ipython3",
   "version": "3.6.5"
  }
 },
 "nbformat": 4,
 "nbformat_minor": 2
}

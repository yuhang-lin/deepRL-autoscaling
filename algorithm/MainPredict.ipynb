{
 "cells": [
  {
   "cell_type": "code",
   "execution_count": 53,
   "metadata": {},
   "outputs": [],
   "source": [
    "%matplotlib inline\n",
    "from __future__ import print_function\n",
    "import numpy as np\n",
    "import tensorflow as tf\n",
    "from keras.models import Sequential\n",
    "from keras.layers import Dense, Dropout, Flatten, Input\n",
    "from keras.layers import LSTM, SpatialDropout1D \n",
    "from sklearn.model_selection import train_test_split\n",
    "import csv\n",
    "import keras\n",
    "from keras.utils import to_categorical\n",
    "from keras.callbacks import ModelCheckpoint\n",
    "import os\n",
    "from getcpuinfo import cpuinfo\n",
    "import matplotlib\n",
    "import numpy as np\n",
    "import matplotlib.pyplot as plt"
   ]
  },
  {
   "cell_type": "code",
   "execution_count": 30,
   "metadata": {},
   "outputs": [],
   "source": [
    "def getTrainedLSTMModel():\n",
    "    \n",
    "    model = Sequential()\n",
    "    \n",
    "    #model.add(SpatialDropout1D(0.3))\n",
    "    \n",
    "    model.add(LSTM((50),dropout = 0.3,batch_input_shape = (None,50,1), return_sequences = True))\n",
    "    \n",
    "    model.add(Dense(50, activation = 'tanh'))\n",
    "    \n",
    "    #model.add(SpatialDropout1D(0.3))\n",
    "    \n",
    "    model.add(LSTM(25,return_sequences = False))\n",
    "    \n",
    "    model.add(Dense(3, activation='softmax'))\n",
    "    \n",
    "    model.compile(loss = 'categorical_crossentropy', optimizer = 'adam',metrics = ['accuracy'])\n",
    "    \n",
    "    if os.path.isfile(\"LSTMBestWeights.hdf5\"):\n",
    "        \n",
    "        #print(\"Hey\")\n",
    "        \n",
    "        model.load_weights(\"LSTMBestWeights.hdf5\")\n",
    "        \n",
    "        return model\n",
    "    else:\n",
    "        \n",
    "        print(\"Unable to find trained model\")\n",
    "        \n",
    "        return -1;\n",
    "    \n",
    "    \n",
    "def getTrained3OuptutModel():\n",
    "    \n",
    "    model = Sequential()\n",
    "    \n",
    "    #model.add(SpatialDropout1D(0.3))\n",
    "    \n",
    "    model.add(Flatten(batch_input_shape = (None,50,1)))\n",
    "    \n",
    "    model.add(Dense(50, activation = \"relu\"))\n",
    "    \n",
    "    model.add(Dropout(0.3, noise_shape=None, seed=None))\n",
    "    \n",
    "    model.add(Dense(25, activation = 'relu'))\n",
    "    \n",
    "    model.add(Dropout(0.3, noise_shape=None, seed=None))\n",
    "    \n",
    "    #model.add(SpatialDropout1D(0.3))\n",
    "    \n",
    "    model.add(Dense(12,activation = 'relu'))\n",
    "    \n",
    "    model.add(Dropout(0.3, noise_shape=None, seed=None))\n",
    "    \n",
    "    model.add(Dense(6,activation = 'relu'))\n",
    "    \n",
    "    model.add(Dropout(0.3, noise_shape=None, seed=None))\n",
    "    \n",
    "    model.add(Dense(3, activation='softmax'))\n",
    "    \n",
    "    model.compile(loss = 'categorical_crossentropy', optimizer = 'adam',metrics = ['accuracy'])\n",
    "    \n",
    "    if os.path.isfile(\"3OutputDNNBestWeights.hdf5\"):\n",
    "        \n",
    "        #print(\"Hey\")\n",
    "        \n",
    "        model.load_weights(\"3OutputDNNBestWeights.hdf5\")\n",
    "        \n",
    "        return model\n",
    "    else:\n",
    "        \n",
    "        print(\"Unable to find trained model\")\n",
    "        \n",
    "        return -1;"
   ]
  },
  {
   "cell_type": "code",
   "execution_count": 31,
   "metadata": {},
   "outputs": [],
   "source": [
    "def appendToList(oldList,newList,maxLength):\n",
    "    \n",
    "    #append to the new entries\n",
    "    oldList = np.append(oldList,np.array([newList]),axis = 0)\n",
    "    \n",
    "    #Remove oldest row if there are more than 50 entries\n",
    "    if(oldList.shape[0]>maxLength):\n",
    "        oldList = oldList[1:,:]\n",
    "\n",
    "    return oldList\n",
    "\n",
    "def getPredictionsForOneTimeStep(model,usageList,maxLengthParam):\n",
    "    \n",
    "    currUsageList = cpuinfo()\n",
    "    \n",
    "    updatedList = appendToList(usageList,currUsageList,maxLengthParam)\n",
    "    \n",
    "    predictions = []\n",
    "    \n",
    "    for i in range(updatedList.shape[1]):\n",
    "        \n",
    "        if updatedList.shape[0]==maxLengthParam:\n",
    "            \n",
    "            modelOutput = model.predict(np.expand_dims(updatedList[i],axis=0))\n",
    "\n",
    "            modelPrediction = np.argmax(modelOutput)\n",
    "\n",
    "            predictions.append(modelPrediction)\n",
    "        \n",
    "        else:\n",
    "            \n",
    "            predictions.append(0)\n",
    "    \n",
    "    return predictions, updatedList\n",
    "\n",
    "#overProvisionedList = \n",
    "\n",
    "def getRightOutputs(usageList,maxLengthParam):\n",
    "    \n",
    "    currList = usageList[usageList.shape[0]-1,:]\n",
    "    \n",
    "    target = []\n",
    "    \n",
    "    for i in range(usageList.shape[1]):\n",
    "        if currList[i] > maxThreshold:# Scale Up\n",
    "            target.append(1)\n",
    "        elif currList[i] < minThreshold: # Scale Down\n",
    "            target.append(-1)\n",
    "        else:\n",
    "            target.append(0)  #Remain same\n",
    "    \n",
    "    if(length(target)>maxLengthParam):\n",
    "        \n",
    "        target = target[1:]\n",
    "    \n",
    "    return target\n",
    "\n",
    "def getPredictions(model,usageList, maxLengthParam):\n",
    "    \n",
    "    predictions,updatedList = getPredictionsForOneTimeStep(model,usageList,maxLengthParam)\n",
    "    \n",
    "    correctOutputs = getRightOutputs(updatedList)\n",
    "    \n",
    "    correctOutputsForTraining = to_categorical(correctOutputs,num_classes = 3)\n",
    "    \n",
    "    "
   ]
  },
  {
   "cell_type": "code",
   "execution_count": 54,
   "metadata": {},
   "outputs": [
    {
     "name": "stdout",
     "output_type": "stream",
     "text": [
      "[[16.9762474  9.5147787  0.        65.0693186  0.0819067]]\n",
      "(1, 5)\n"
     ]
    }
   ],
   "source": [
    "mylist = np.array([cpuinfo()])\n",
    "print(mylist)\n",
    "print(mylist.shape)"
   ]
  },
  {
   "cell_type": "code",
   "execution_count": null,
   "metadata": {},
   "outputs": [],
   "source": [
    "mylist = np.append(np.array([[]]), np.array([cpuinfo()]), axis = 0)\n",
    "print(mylist)\n",
    "print(mylist.shape)"
   ]
  },
  {
   "cell_type": "code",
   "execution_count": 57,
   "metadata": {},
   "outputs": [
    {
     "data": {
      "text/plain": [
       "array([9.5147787, 8.5266884])"
      ]
     },
     "execution_count": 57,
     "metadata": {},
     "output_type": "execute_result"
    }
   ],
   "source": [
    "mylist[:,1]"
   ]
  },
  {
   "cell_type": "code",
   "execution_count": 58,
   "metadata": {},
   "outputs": [
    {
     "data": {
      "text/plain": [
       "[2, 3, 4]"
      ]
     },
     "execution_count": 58,
     "metadata": {},
     "output_type": "execute_result"
    }
   ],
   "source": [
    "a = [1,2,3,4]\n",
    "a[1:]"
   ]
  }
 ],
 "metadata": {
  "kernelspec": {
   "display_name": "Environment (conda_tensorflow_p27)",
   "language": "python",
   "name": "conda_tensorflow_p27"
  },
  "language_info": {
   "codemirror_mode": {
    "name": "ipython",
    "version": 2
   },
   "file_extension": ".py",
   "mimetype": "text/x-python",
   "name": "python",
   "nbconvert_exporter": "python",
   "pygments_lexer": "ipython2",
   "version": "2.7.15"
  }
 },
 "nbformat": 4,
 "nbformat_minor": 2
}

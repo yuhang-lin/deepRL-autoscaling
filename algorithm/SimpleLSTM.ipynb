{
 "cells": [
  {
   "cell_type": "markdown",
   "metadata": {},
   "source": [
    "### Load Libraries"
   ]
  },
  {
   "cell_type": "code",
   "execution_count": 25,
   "metadata": {},
   "outputs": [],
   "source": [
    "from __future__ import print_function\n",
    "import numpy as np\n",
    "import tensorflow as tf\n",
    "from keras.models import Sequential\n",
    "from keras.layers import Dense, Dropout, Flatten, Input\n",
    "from keras.layers import LSTM, SpatialDropout1D \n",
    "from sklearn.model_selection import train_test_split\n",
    "import csv\n",
    "import keras\n",
    "from keras.utils import to_categorical\n",
    "from keras.callbacks import ModelCheckpoint\n",
    "import os\n",
    "#from getcpuinfo import cpuinfo\n",
    "import matplotlib\n",
    "import numpy as np\n",
    "import matplotlib.pyplot as plt\n",
    "import requests\n",
    "from apscheduler.schedulers.background import BackgroundScheduler\n",
    "import datetime\n",
    "from keras import regularizers"
   ]
  },
  {
   "cell_type": "markdown",
   "metadata": {},
   "source": [
    "### Load Raw Training Data"
   ]
  },
  {
   "cell_type": "code",
   "execution_count": 26,
   "metadata": {},
   "outputs": [],
   "source": [
    "inpData = []\n",
    "labels = []\n",
    "\n",
    "'''\n",
    "with open('cdata.csv') as csv_file:\n",
    "    lines = csv.reader(csv_file, delimiter=',')\n",
    "    for row in lines:\n",
    "        labels.append(row[0])\n",
    "        inpData.append(float(row[1]))\n",
    "'''\n",
    "inpDataArray = np.loadtxt(\"usageData.csv\",delimiter = ',') "
   ]
  },
  {
   "cell_type": "markdown",
   "metadata": {},
   "source": [
    "### Set the Target Labels"
   ]
  },
  {
   "cell_type": "code",
   "execution_count": 27,
   "metadata": {},
   "outputs": [],
   "source": [
    "minThreshold = 30\n",
    "maxThreshold = 70\n",
    "target = []\n",
    "cpuUsage = []\n",
    "historyParam = 50\n",
    "for i in range(0,inpDataArray.shape[1]):\n",
    "    inpData = inpDataArray[:,i]\n",
    "    index = historyParam\n",
    "    while index < len(inpData):\n",
    "        currRec = inpData[index-historyParam:index]\n",
    "        if inpData[index] > maxThreshold:# Scale Up\n",
    "            target.append(1)\n",
    "        elif inpData[index] < minThreshold: # Scale Down\n",
    "            target.append(-1)\n",
    "        else:\n",
    "            target.append(0)  #Remain same\n",
    "        cpuUsage.append(currRec)\n",
    "        index += 1"
   ]
  },
  {
   "cell_type": "code",
   "execution_count": 28,
   "metadata": {},
   "outputs": [
    {
     "name": "stdout",
     "output_type": "stream",
     "text": [
      "(47072,)\n",
      "(47072, 50, 1)\n"
     ]
    }
   ],
   "source": [
    "cpuUsageData = np.expand_dims(np.array(cpuUsage,dtype = 'float'),axis = 2)\n",
    "cpuScaling = np.array(target,dtype = 'float')\n",
    "print(cpuScaling.shape)\n",
    "print(cpuUsageData.shape)\n",
    "\n",
    "cpuScalingCategorical = to_categorical(cpuScaling, num_classes = 3)"
   ]
  },
  {
   "cell_type": "markdown",
   "metadata": {},
   "source": [
    "### Preprocessing Input Data"
   ]
  },
  {
   "cell_type": "code",
   "execution_count": 29,
   "metadata": {},
   "outputs": [
    {
     "data": {
      "text/plain": [
       "'cpuUsage = []\\ncpuScaling = []\\nhistoryParam = 50\\nindex = historyParam\\n\\nwhile index<len(inpData):\\n    currRec = [[inpData[i]] for i in range(index-historyParam,index)]\\n    cpuUsage.append(currRec)\\n    index+=1'"
      ]
     },
     "execution_count": 29,
     "metadata": {},
     "output_type": "execute_result"
    }
   ],
   "source": [
    "'''cpuUsage = []\n",
    "cpuScaling = []\n",
    "historyParam = 50\n",
    "index = historyParam\n",
    "\n",
    "while index<len(inpData):\n",
    "    currRec = [[inpData[i]] for i in range(index-historyParam,index)]\n",
    "    cpuUsage.append(currRec)\n",
    "    index+=1'''\n",
    "    "
   ]
  },
  {
   "cell_type": "code",
   "execution_count": 30,
   "metadata": {},
   "outputs": [
    {
     "data": {
      "text/plain": [
       "\"cpuScaling = target[historyParam-1:len(target)]\\n\\n\\ncpuUsageData = np.array(cpuUsage,dtype = 'float')\\ncpuScaling = np.array(cpuScaling,dtype = 'float')\\n\\ncpuScalingCategorical = to_categorical(cpuScaling, num_classes = 3)\""
      ]
     },
     "execution_count": 30,
     "metadata": {},
     "output_type": "execute_result"
    }
   ],
   "source": [
    "'''cpuScaling = target[historyParam-1:len(target)]\n",
    "\n",
    "\n",
    "cpuUsageData = np.array(cpuUsage,dtype = 'float')\n",
    "cpuScaling = np.array(cpuScaling,dtype = 'float')\n",
    "\n",
    "cpuScalingCategorical = to_categorical(cpuScaling, num_classes = 3)'''"
   ]
  },
  {
   "cell_type": "code",
   "execution_count": 31,
   "metadata": {},
   "outputs": [],
   "source": [
    "#len(inpData)\n",
    "X_train, X_test, y_train, y_test = train_test_split(cpuUsageData , cpuScalingCategorical, test_size=0.10, random_state=3)"
   ]
  },
  {
   "cell_type": "code",
   "execution_count": 32,
   "metadata": {},
   "outputs": [
    {
     "data": {
      "text/plain": [
       "(47072, 50, 1)"
      ]
     },
     "execution_count": 32,
     "metadata": {},
     "output_type": "execute_result"
    }
   ],
   "source": [
    "cpuUsageData.shape\n",
    "#np.shape(cpuUsage)"
   ]
  },
  {
   "cell_type": "code",
   "execution_count": 33,
   "metadata": {},
   "outputs": [
    {
     "name": "stdout",
     "output_type": "stream",
     "text": [
      "[1. 0. 0.]\n",
      "0.0\n",
      "{0.0, 1.0, -1.0}\n",
      " 0.0    20761\n",
      "-1.0    13176\n",
      " 1.0    13135\n",
      "dtype: int64\n"
     ]
    }
   ],
   "source": [
    "import pandas\n",
    "testrec = 5\n",
    "print(cpuScalingCategorical[testrec])\n",
    "print(cpuScaling[testrec])\n",
    "print(set(cpuScaling))\n",
    "myseries=pandas.Series(cpuScaling)\n",
    "print(myseries.value_counts())"
   ]
  },
  {
   "cell_type": "code",
   "execution_count": 34,
   "metadata": {},
   "outputs": [],
   "source": [
    "model = Sequential()\n",
    "#model.add(SpatialDropout1D(0.3))\n",
    "model.add(LSTM((50),dropout = 0.3,batch_input_shape = (None,50,1), return_sequences = True))\n",
    "model.add(Dense(25, activation = 'relu',\n",
    "                    kernel_initializer='he_normal', kernel_regularizer=regularizers.l2(0.1)))\n",
    "model.add(LSTM(25,return_sequences = False))\n",
    "model.add(Dense(12, activation = 'relu',\n",
    "                    kernel_initializer='he_normal', kernel_regularizer=regularizers.l2(0.1)))\n",
    "model.add(Dropout(rate = 0.3))\n",
    "model.add(Dense(6, activation = 'relu',\n",
    "                    kernel_initializer='he_normal', kernel_regularizer=regularizers.l2(0.1)))\n",
    "model.add(Dense(3, activation='softmax', kernel_initializer='he_normal'))\n",
    "model.compile(loss = 'categorical_crossentropy', optimizer = 'adam',metrics = ['accuracy'])\n",
    "#model.summary()"
   ]
  },
  {
   "cell_type": "code",
   "execution_count": 35,
   "metadata": {},
   "outputs": [
    {
     "name": "stdout",
     "output_type": "stream",
     "text": [
      "_________________________________________________________________\n",
      "Layer (type)                 Output Shape              Param #   \n",
      "=================================================================\n",
      "lstm_4 (LSTM)                (None, 50, 50)            10400     \n",
      "_________________________________________________________________\n",
      "dense_5 (Dense)              (None, 50, 25)            1275      \n",
      "_________________________________________________________________\n",
      "lstm_5 (LSTM)                (None, 25)                5100      \n",
      "_________________________________________________________________\n",
      "dense_6 (Dense)              (None, 12)                312       \n",
      "_________________________________________________________________\n",
      "dropout_1 (Dropout)          (None, 12)                0         \n",
      "_________________________________________________________________\n",
      "dense_7 (Dense)              (None, 6)                 78        \n",
      "_________________________________________________________________\n",
      "dense_8 (Dense)              (None, 3)                 21        \n",
      "=================================================================\n",
      "Total params: 17,186\n",
      "Trainable params: 17,186\n",
      "Non-trainable params: 0\n",
      "_________________________________________________________________\n"
     ]
    }
   ],
   "source": [
    "model.summary()"
   ]
  },
  {
   "cell_type": "code",
   "execution_count": 36,
   "metadata": {},
   "outputs": [],
   "source": [
    "filepath=\"SimpleLSTMV4BestWeights.hdf5\"\n",
    "checkpoint = ModelCheckpoint(filepath, monitor='val_acc', verbose=1, save_best_only=True, mode='max')\n",
    "callbacks_list = [checkpoint]"
   ]
  },
  {
   "cell_type": "code",
   "execution_count": 37,
   "metadata": {},
   "outputs": [
    {
     "data": {
      "text/plain": [
       "'if os.path.isfile(\"LSTMBestWeights.hdf5\"):\\n    #print(\"Hey\")\\n    model.load_weights(\"LSTMBestWeights.hdf5\")'"
      ]
     },
     "execution_count": 37,
     "metadata": {},
     "output_type": "execute_result"
    }
   ],
   "source": [
    "'''if os.path.isfile(\"LSTMBestWeights.hdf5\"):\n",
    "    #print(\"Hey\")\n",
    "    model.load_weights(\"LSTMBestWeights.hdf5\")'''"
   ]
  },
  {
   "cell_type": "code",
   "execution_count": 38,
   "metadata": {},
   "outputs": [
    {
     "name": "stdout",
     "output_type": "stream",
     "text": [
      "Train on 42364 samples, validate on 4708 samples\n",
      "Epoch 1/25\n",
      "42364/42364 [==============================] - 13s 317us/step - loss: 8.2093 - acc: 0.5010 - val_loss: 7.0413 - val_acc: 0.6929\n",
      "\n",
      "Epoch 00001: val_acc improved from -inf to 0.69286, saving model to SimpleLSTMV4BestWeights.hdf5\n",
      "Epoch 2/25\n",
      "42364/42364 [==============================] - 12s 272us/step - loss: 6.1362 - acc: 0.6508 - val_loss: 5.3221 - val_acc: 0.6599\n",
      "\n",
      "Epoch 00002: val_acc did not improve from 0.69286\n",
      "Epoch 3/25\n",
      "42364/42364 [==============================] - 12s 272us/step - loss: 4.6398 - acc: 0.7042 - val_loss: 4.0102 - val_acc: 0.6939\n",
      "\n",
      "Epoch 00003: val_acc improved from 0.69286 to 0.69393, saving model to SimpleLSTMV4BestWeights.hdf5\n",
      "Epoch 4/25\n",
      "42364/42364 [==============================] - 12s 272us/step - loss: 3.6045 - acc: 0.7334 - val_loss: 3.2101 - val_acc: 0.8292\n",
      "\n",
      "Epoch 00004: val_acc improved from 0.69393 to 0.82923, saving model to SimpleLSTMV4BestWeights.hdf5\n",
      "Epoch 5/25\n",
      "42364/42364 [==============================] - 11s 270us/step - loss: 2.8510 - acc: 0.8110 - val_loss: 2.5658 - val_acc: 0.8052\n",
      "\n",
      "Epoch 00005: val_acc did not improve from 0.82923\n",
      "Epoch 6/25\n",
      "42364/42364 [==============================] - 11s 271us/step - loss: 2.2970 - acc: 0.8529 - val_loss: 2.0573 - val_acc: 0.8437\n",
      "\n",
      "Epoch 00006: val_acc improved from 0.82923 to 0.84367, saving model to SimpleLSTMV4BestWeights.hdf5\n",
      "Epoch 7/25\n",
      "42364/42364 [==============================] - 12s 272us/step - loss: 1.8772 - acc: 0.8526 - val_loss: 1.7453 - val_acc: 0.8031\n",
      "\n",
      "Epoch 00007: val_acc did not improve from 0.84367\n",
      "Epoch 8/25\n",
      "42364/42364 [==============================] - 12s 272us/step - loss: 1.5640 - acc: 0.8522 - val_loss: 1.4341 - val_acc: 0.8192\n",
      "\n",
      "Epoch 00008: val_acc did not improve from 0.84367\n",
      "Epoch 9/25\n",
      "42364/42364 [==============================] - 11s 270us/step - loss: 1.3301 - acc: 0.8496 - val_loss: 1.2695 - val_acc: 0.7836\n",
      "\n",
      "Epoch 00009: val_acc did not improve from 0.84367\n",
      "Epoch 10/25\n",
      "42364/42364 [==============================] - 11s 271us/step - loss: 1.1579 - acc: 0.8499 - val_loss: 1.1258 - val_acc: 0.7610\n",
      "\n",
      "Epoch 00010: val_acc did not improve from 0.84367\n",
      "Epoch 11/25\n",
      "42364/42364 [==============================] - 12s 272us/step - loss: 1.0267 - acc: 0.8503 - val_loss: 0.9849 - val_acc: 0.8201\n",
      "\n",
      "Epoch 00011: val_acc did not improve from 0.84367\n",
      "Epoch 12/25\n",
      "42364/42364 [==============================] - 11s 269us/step - loss: 0.9221 - acc: 0.8538 - val_loss: 0.9522 - val_acc: 0.8252\n",
      "\n",
      "Epoch 00012: val_acc did not improve from 0.84367\n",
      "Epoch 13/25\n",
      "42364/42364 [==============================] - 11s 271us/step - loss: 0.8442 - acc: 0.8523 - val_loss: 0.9323 - val_acc: 0.7810\n",
      "\n",
      "Epoch 00013: val_acc did not improve from 0.84367\n",
      "Epoch 14/25\n",
      "42364/42364 [==============================] - 12s 274us/step - loss: 0.7819 - acc: 0.8536 - val_loss: 0.7921 - val_acc: 0.8101\n",
      "\n",
      "Epoch 00014: val_acc did not improve from 0.84367\n",
      "Epoch 15/25\n",
      "42364/42364 [==============================] - 11s 270us/step - loss: 0.7308 - acc: 0.8541 - val_loss: 0.7134 - val_acc: 0.8377\n",
      "\n",
      "Epoch 00015: val_acc did not improve from 0.84367\n",
      "Epoch 16/25\n",
      "42364/42364 [==============================] - 11s 271us/step - loss: 0.6890 - acc: 0.8569 - val_loss: 0.7840 - val_acc: 0.7591\n",
      "\n",
      "Epoch 00016: val_acc did not improve from 0.84367\n",
      "Epoch 17/25\n",
      "42364/42364 [==============================] - 12s 283us/step - loss: 0.6553 - acc: 0.8561 - val_loss: 0.6768 - val_acc: 0.8248\n",
      "\n",
      "Epoch 00017: val_acc did not improve from 0.84367\n",
      "Epoch 18/25\n",
      "42364/42364 [==============================] - 12s 274us/step - loss: 0.6248 - acc: 0.8607 - val_loss: 0.6978 - val_acc: 0.7842\n",
      "\n",
      "Epoch 00018: val_acc did not improve from 0.84367\n",
      "Epoch 19/25\n",
      "42364/42364 [==============================] - 12s 272us/step - loss: 0.6079 - acc: 0.8599 - val_loss: 0.6445 - val_acc: 0.8056\n",
      "\n",
      "Epoch 00019: val_acc did not improve from 0.84367\n",
      "Epoch 20/25\n",
      "42364/42364 [==============================] - 12s 273us/step - loss: 0.6335 - acc: 0.8457 - val_loss: 0.6251 - val_acc: 0.7950\n",
      "\n",
      "Epoch 00020: val_acc did not improve from 0.84367\n",
      "Epoch 21/25\n",
      "42364/42364 [==============================] - 11s 271us/step - loss: 0.5991 - acc: 0.8532 - val_loss: 0.6451 - val_acc: 0.7719\n",
      "\n",
      "Epoch 00021: val_acc did not improve from 0.84367\n",
      "Epoch 22/25\n",
      "42364/42364 [==============================] - 12s 275us/step - loss: 0.5427 - acc: 0.8793 - val_loss: 0.6966 - val_acc: 0.7232\n",
      "\n",
      "Epoch 00022: val_acc did not improve from 0.84367\n",
      "Epoch 23/25\n",
      "42364/42364 [==============================] - 11s 270us/step - loss: 0.5254 - acc: 0.8840 - val_loss: 0.6037 - val_acc: 0.7840\n",
      "\n",
      "Epoch 00023: val_acc did not improve from 0.84367\n",
      "Epoch 24/25\n",
      "42364/42364 [==============================] - 12s 272us/step - loss: 0.5134 - acc: 0.8889 - val_loss: 0.6108 - val_acc: 0.7712\n",
      "\n",
      "Epoch 00024: val_acc did not improve from 0.84367\n",
      "Epoch 25/25\n",
      "42364/42364 [==============================] - 12s 274us/step - loss: 0.5036 - acc: 0.8953 - val_loss: 0.5762 - val_acc: 0.7923\n",
      "\n",
      "Epoch 00025: val_acc did not improve from 0.84367\n"
     ]
    }
   ],
   "source": [
    "history = model.fit(X_train, y_train, epochs = 25,validation_data = [X_test, y_test], callbacks = callbacks_list,verbose=1, batch_size = 1000)"
   ]
  },
  {
   "cell_type": "code",
   "execution_count": null,
   "metadata": {},
   "outputs": [],
   "source": [
    "X_test.shape\n",
    "np.expand_dims(X_test[0],axis = 0).shape"
   ]
  },
  {
   "cell_type": "code",
   "execution_count": null,
   "metadata": {},
   "outputs": [],
   "source": [
    "res = model.predict(np.expand_dims(X_test[0],axis=0))"
   ]
  },
  {
   "cell_type": "code",
   "execution_count": null,
   "metadata": {},
   "outputs": [],
   "source": [
    "print(res)\n",
    "print(np.argmax(res[0]))"
   ]
  },
  {
   "cell_type": "code",
   "execution_count": null,
   "metadata": {},
   "outputs": [],
   "source": [
    "np.argmax([0,1,0],axis = 0)"
   ]
  },
  {
   "cell_type": "code",
   "execution_count": null,
   "metadata": {},
   "outputs": [],
   "source": [
    "np.argmax(res,axis = 1)"
   ]
  },
  {
   "cell_type": "code",
   "execution_count": null,
   "metadata": {},
   "outputs": [],
   "source": [
    "print(inpData[0+1])"
   ]
  }
 ],
 "metadata": {
  "kernelspec": {
   "display_name": "Environment (conda_tensorflow_p36)",
   "language": "python",
   "name": "conda_tensorflow_p36"
  },
  "language_info": {
   "codemirror_mode": {
    "name": "ipython",
    "version": 3
   },
   "file_extension": ".py",
   "mimetype": "text/x-python",
   "name": "python",
   "nbconvert_exporter": "python",
   "pygments_lexer": "ipython3",
   "version": "3.6.5"
  }
 },
 "nbformat": 4,
 "nbformat_minor": 2
}

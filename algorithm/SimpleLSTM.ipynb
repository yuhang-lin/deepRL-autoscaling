{
 "cells": [
  {
   "cell_type": "markdown",
   "metadata": {},
   "source": [
    "### Load Libraries"
   ]
  },
  {
   "cell_type": "code",
   "execution_count": 11,
   "metadata": {},
   "outputs": [],
   "source": [
    "from __future__ import print_function\n",
    "import numpy as np\n",
    "import tensorflow as tf\n",
    "from keras.models import Sequential\n",
    "from keras.layers import Dense, Dropout, Flatten, Input\n",
    "from keras.layers import LSTM, SpatialDropout1D \n",
    "from sklearn.model_selection import train_test_split\n",
    "import csv\n",
    "import keras\n",
    "from keras.utils import to_categorical\n",
    "from keras.callbacks import ModelCheckpoint\n",
    "import os\n",
    "#from getcpuinfo import cpuinfo\n",
    "import matplotlib\n",
    "import numpy as np\n",
    "import matplotlib.pyplot as plt\n",
    "import requests\n",
    "from apscheduler.schedulers.background import BackgroundScheduler\n",
    "import datetime\n",
    "from keras import regularizers"
   ]
  },
  {
   "cell_type": "markdown",
   "metadata": {},
   "source": [
    "### Load Raw Training Data"
   ]
  },
  {
   "cell_type": "code",
   "execution_count": 12,
   "metadata": {},
   "outputs": [],
   "source": [
    "inpData = []\n",
    "labels = []\n",
    "\n",
    "'''\n",
    "with open('cdata.csv') as csv_file:\n",
    "    lines = csv.reader(csv_file, delimiter=',')\n",
    "    for row in lines:\n",
    "        labels.append(row[0])\n",
    "        inpData.append(float(row[1]))\n",
    "'''\n",
    "inpDataArray = np.loadtxt(\"usageData.csv\",delimiter = ',') "
   ]
  },
  {
   "cell_type": "markdown",
   "metadata": {},
   "source": [
    "### Set the Target Labels"
   ]
  },
  {
   "cell_type": "code",
   "execution_count": 13,
   "metadata": {},
   "outputs": [],
   "source": [
    "minThreshold = 30\n",
    "maxThreshold = 70\n",
    "target = []\n",
    "cpuUsage = []\n",
    "historyParam = 50\n",
    "for i in range(0,inpDataArray.shape[1]):\n",
    "    inpData = inpDataArray[:,i]\n",
    "    index = historyParam\n",
    "    while index < len(inpData):\n",
    "        currRec = inpData[index-historyParam:index]\n",
    "        if inpData[index] > maxThreshold:# Scale Up\n",
    "            target.append(1)\n",
    "        elif inpData[index] < minThreshold: # Scale Down\n",
    "            target.append(-1)\n",
    "        else:\n",
    "            target.append(0)  #Remain same\n",
    "        cpuUsage.append(currRec)\n",
    "        index += 1"
   ]
  },
  {
   "cell_type": "code",
   "execution_count": 14,
   "metadata": {},
   "outputs": [
    {
     "name": "stdout",
     "output_type": "stream",
     "text": [
      "(47072,)\n",
      "(47072, 50, 1)\n"
     ]
    }
   ],
   "source": [
    "cpuUsageData = np.expand_dims(np.array(cpuUsage,dtype = 'float'),axis = 2)\n",
    "cpuScaling = np.array(target,dtype = 'float')\n",
    "print(cpuScaling.shape)\n",
    "print(cpuUsageData.shape)\n",
    "\n",
    "cpuScalingCategorical = to_categorical(cpuScaling, num_classes = 3)"
   ]
  },
  {
   "cell_type": "markdown",
   "metadata": {},
   "source": [
    "### Preprocessing Input Data"
   ]
  },
  {
   "cell_type": "code",
   "execution_count": 15,
   "metadata": {},
   "outputs": [
    {
     "data": {
      "text/plain": [
       "'cpuUsage = []\\ncpuScaling = []\\nhistoryParam = 50\\nindex = historyParam\\n\\nwhile index<len(inpData):\\n    currRec = [[inpData[i]] for i in range(index-historyParam,index)]\\n    cpuUsage.append(currRec)\\n    index+=1'"
      ]
     },
     "execution_count": 15,
     "metadata": {},
     "output_type": "execute_result"
    }
   ],
   "source": [
    "'''cpuUsage = []\n",
    "cpuScaling = []\n",
    "historyParam = 50\n",
    "index = historyParam\n",
    "\n",
    "while index<len(inpData):\n",
    "    currRec = [[inpData[i]] for i in range(index-historyParam,index)]\n",
    "    cpuUsage.append(currRec)\n",
    "    index+=1'''\n",
    "    "
   ]
  },
  {
   "cell_type": "code",
   "execution_count": 16,
   "metadata": {},
   "outputs": [
    {
     "data": {
      "text/plain": [
       "\"cpuScaling = target[historyParam-1:len(target)]\\n\\n\\ncpuUsageData = np.array(cpuUsage,dtype = 'float')\\ncpuScaling = np.array(cpuScaling,dtype = 'float')\\n\\ncpuScalingCategorical = to_categorical(cpuScaling, num_classes = 3)\""
      ]
     },
     "execution_count": 16,
     "metadata": {},
     "output_type": "execute_result"
    }
   ],
   "source": [
    "'''cpuScaling = target[historyParam-1:len(target)]\n",
    "\n",
    "\n",
    "cpuUsageData = np.array(cpuUsage,dtype = 'float')\n",
    "cpuScaling = np.array(cpuScaling,dtype = 'float')\n",
    "\n",
    "cpuScalingCategorical = to_categorical(cpuScaling, num_classes = 3)'''"
   ]
  },
  {
   "cell_type": "code",
   "execution_count": 17,
   "metadata": {},
   "outputs": [],
   "source": [
    "#len(inpData)\n",
    "X_train, X_test, y_train, y_test = train_test_split(cpuUsageData , cpuScalingCategorical, test_size=0.10, random_state=3)"
   ]
  },
  {
   "cell_type": "code",
   "execution_count": 18,
   "metadata": {},
   "outputs": [
    {
     "data": {
      "text/plain": [
       "(47072, 50, 1)"
      ]
     },
     "execution_count": 18,
     "metadata": {},
     "output_type": "execute_result"
    }
   ],
   "source": [
    "cpuUsageData.shape\n",
    "#np.shape(cpuUsage)"
   ]
  },
  {
   "cell_type": "code",
   "execution_count": 19,
   "metadata": {},
   "outputs": [
    {
     "name": "stdout",
     "output_type": "stream",
     "text": [
      "[1. 0. 0.]\n",
      "0.0\n",
      "{0.0, 1.0, -1.0}\n",
      " 0.0    20761\n",
      "-1.0    13176\n",
      " 1.0    13135\n",
      "dtype: int64\n"
     ]
    }
   ],
   "source": [
    "import pandas\n",
    "testrec = 5\n",
    "print(cpuScalingCategorical[testrec])\n",
    "print(cpuScaling[testrec])\n",
    "print(set(cpuScaling))\n",
    "myseries=pandas.Series(cpuScaling)\n",
    "print(myseries.value_counts())"
   ]
  },
  {
   "cell_type": "code",
   "execution_count": 20,
   "metadata": {},
   "outputs": [],
   "source": [
    "model = Sequential()\n",
    "#model.add(SpatialDropout1D(0.3))\n",
    "model.add(LSTM((50),dropout = 0.3,batch_input_shape = (None,50,1), return_sequences = True))\n",
    "model.add(Dense(25, activation = 'relu',\n",
    "                    kernel_initializer='he_normal', kernel_regularizer=regularizers.l2(0.1)))\n",
    "model.add(LSTM(25,return_sequences = False))\n",
    "model.add(Dense(12, activation = 'relu',\n",
    "                    kernel_initializer='he_normal', kernel_regularizer=regularizers.l2(0.1)))\n",
    "#model.add(Dropout(rate = 0.3))\n",
    "model.add(Dense(6, activation = 'relu',\n",
    "                    kernel_initializer='he_normal', kernel_regularizer=regularizers.l2(0.1)))\n",
    "model.add(Dense(3, activation='softmax', kernel_initializer='he_normal'))\n",
    "model.compile(loss = 'categorical_crossentropy', optimizer = 'adam',metrics = ['accuracy'])\n",
    "#model.summary()"
   ]
  },
  {
   "cell_type": "code",
   "execution_count": 21,
   "metadata": {},
   "outputs": [
    {
     "name": "stdout",
     "output_type": "stream",
     "text": [
      "_________________________________________________________________\n",
      "Layer (type)                 Output Shape              Param #   \n",
      "=================================================================\n",
      "lstm_2 (LSTM)                (None, 50, 50)            10400     \n",
      "_________________________________________________________________\n",
      "dense_1 (Dense)              (None, 50, 25)            1275      \n",
      "_________________________________________________________________\n",
      "lstm_3 (LSTM)                (None, 25)                5100      \n",
      "_________________________________________________________________\n",
      "dense_2 (Dense)              (None, 12)                312       \n",
      "_________________________________________________________________\n",
      "dense_3 (Dense)              (None, 6)                 78        \n",
      "_________________________________________________________________\n",
      "dense_4 (Dense)              (None, 3)                 21        \n",
      "=================================================================\n",
      "Total params: 17,186\n",
      "Trainable params: 17,186\n",
      "Non-trainable params: 0\n",
      "_________________________________________________________________\n"
     ]
    }
   ],
   "source": [
    "model.summary()"
   ]
  },
  {
   "cell_type": "code",
   "execution_count": 22,
   "metadata": {},
   "outputs": [],
   "source": [
    "filepath=\"SimpleLSTMV3BestWeights.hdf5\"\n",
    "checkpoint = ModelCheckpoint(filepath, monitor='val_acc', verbose=1, save_best_only=True, mode='max')\n",
    "callbacks_list = [checkpoint]"
   ]
  },
  {
   "cell_type": "code",
   "execution_count": 23,
   "metadata": {},
   "outputs": [
    {
     "data": {
      "text/plain": [
       "'if os.path.isfile(\"LSTMBestWeights.hdf5\"):\\n    #print(\"Hey\")\\n    model.load_weights(\"LSTMBestWeights.hdf5\")'"
      ]
     },
     "execution_count": 23,
     "metadata": {},
     "output_type": "execute_result"
    }
   ],
   "source": [
    "'''if os.path.isfile(\"LSTMBestWeights.hdf5\"):\n",
    "    #print(\"Hey\")\n",
    "    model.load_weights(\"LSTMBestWeights.hdf5\")'''"
   ]
  },
  {
   "cell_type": "code",
   "execution_count": 24,
   "metadata": {},
   "outputs": [
    {
     "name": "stdout",
     "output_type": "stream",
     "text": [
      "WARNING:tensorflow:From /home/ubuntu/anaconda3/envs/tensorflow_p36/lib/python3.6/site-packages/tensorflow/python/ops/math_ops.py:3066: to_int32 (from tensorflow.python.ops.math_ops) is deprecated and will be removed in a future version.\n",
      "Instructions for updating:\n",
      "Use tf.cast instead.\n",
      "Train on 42364 samples, validate on 4708 samples\n",
      "Epoch 1/25\n",
      "42364/42364 [==============================] - 13s 305us/step - loss: 8.2882 - acc: 0.3675 - val_loss: 7.1270 - val_acc: 0.5287\n",
      "\n",
      "Epoch 00001: val_acc improved from -inf to 0.52867, saving model to SimpleLSTMV3BestWeights.hdf5\n",
      "Epoch 2/25\n",
      "42364/42364 [==============================] - 12s 279us/step - loss: 6.2073 - acc: 0.6517 - val_loss: 5.3106 - val_acc: 0.5847\n",
      "\n",
      "Epoch 00002: val_acc improved from 0.52867 to 0.58475, saving model to SimpleLSTMV3BestWeights.hdf5\n",
      "Epoch 3/25\n",
      "42364/42364 [==============================] - 12s 281us/step - loss: 4.6415 - acc: 0.8097 - val_loss: 4.0564 - val_acc: 0.6017\n",
      "\n",
      "Epoch 00003: val_acc improved from 0.58475 to 0.60174, saving model to SimpleLSTMV3BestWeights.hdf5\n",
      "Epoch 4/25\n",
      "42364/42364 [==============================] - 12s 276us/step - loss: 3.5565 - acc: 0.8390 - val_loss: 3.1742 - val_acc: 0.6226\n",
      "\n",
      "Epoch 00004: val_acc improved from 0.60174 to 0.62256, saving model to SimpleLSTMV3BestWeights.hdf5\n",
      "Epoch 5/25\n",
      "42364/42364 [==============================] - 12s 272us/step - loss: 2.7596 - acc: 0.8601 - val_loss: 2.4493 - val_acc: 0.7846\n",
      "\n",
      "Epoch 00005: val_acc improved from 0.62256 to 0.78462, saving model to SimpleLSTMV3BestWeights.hdf5\n",
      "Epoch 6/25\n",
      "42364/42364 [==============================] - 12s 273us/step - loss: 2.1591 - acc: 0.8714 - val_loss: 2.0211 - val_acc: 0.7918\n",
      "\n",
      "Epoch 00006: val_acc improved from 0.78462 to 0.79184, saving model to SimpleLSTMV3BestWeights.hdf5\n",
      "Epoch 7/25\n",
      "42364/42364 [==============================] - 12s 273us/step - loss: 1.7251 - acc: 0.8685 - val_loss: 1.7159 - val_acc: 0.7721\n",
      "\n",
      "Epoch 00007: val_acc did not improve from 0.79184\n",
      "Epoch 8/25\n",
      "42364/42364 [==============================] - 12s 275us/step - loss: 1.4169 - acc: 0.8657 - val_loss: 1.7543 - val_acc: 0.6277\n",
      "\n",
      "Epoch 00008: val_acc did not improve from 0.79184\n",
      "Epoch 9/25\n",
      "42364/42364 [==============================] - 12s 276us/step - loss: 1.1794 - acc: 0.8705 - val_loss: 1.1636 - val_acc: 0.8263\n",
      "\n",
      "Epoch 00009: val_acc improved from 0.79184 to 0.82625, saving model to SimpleLSTMV3BestWeights.hdf5\n",
      "Epoch 10/25\n",
      "42364/42364 [==============================] - 11s 271us/step - loss: 1.0023 - acc: 0.8760 - val_loss: 0.9889 - val_acc: 0.8435\n",
      "\n",
      "Epoch 00010: val_acc improved from 0.82625 to 0.84346, saving model to SimpleLSTMV3BestWeights.hdf5\n",
      "Epoch 11/25\n",
      "42364/42364 [==============================] - 12s 272us/step - loss: 0.8721 - acc: 0.8796 - val_loss: 0.8584 - val_acc: 0.8575\n",
      "\n",
      "Epoch 00011: val_acc improved from 0.84346 to 0.85748, saving model to SimpleLSTMV3BestWeights.hdf5\n",
      "Epoch 12/25\n",
      "42364/42364 [==============================] - 12s 274us/step - loss: 0.8094 - acc: 0.8711 - val_loss: 0.8856 - val_acc: 0.7205\n",
      "\n",
      "Epoch 00012: val_acc did not improve from 0.85748\n",
      "Epoch 13/25\n",
      "42364/42364 [==============================] - 12s 273us/step - loss: 0.7586 - acc: 0.8623 - val_loss: 0.8350 - val_acc: 0.8050\n",
      "\n",
      "Epoch 00013: val_acc did not improve from 0.85748\n",
      "Epoch 14/25\n",
      "42364/42364 [==============================] - 12s 274us/step - loss: 0.6682 - acc: 0.8846 - val_loss: 0.7195 - val_acc: 0.8403\n",
      "\n",
      "Epoch 00014: val_acc did not improve from 0.85748\n",
      "Epoch 15/25\n",
      "42364/42364 [==============================] - 12s 276us/step - loss: 0.6179 - acc: 0.8900 - val_loss: 0.7644 - val_acc: 0.7799\n",
      "\n",
      "Epoch 00015: val_acc did not improve from 0.85748\n",
      "Epoch 16/25\n",
      "42364/42364 [==============================] - 12s 276us/step - loss: 0.5817 - acc: 0.8925 - val_loss: 0.7324 - val_acc: 0.7865\n",
      "\n",
      "Epoch 00016: val_acc did not improve from 0.85748\n",
      "Epoch 17/25\n",
      "42364/42364 [==============================] - 12s 282us/step - loss: 0.5526 - acc: 0.8947 - val_loss: 0.6900 - val_acc: 0.7908\n",
      "\n",
      "Epoch 00017: val_acc did not improve from 0.85748\n",
      "Epoch 18/25\n",
      "42364/42364 [==============================] - 12s 273us/step - loss: 0.5277 - acc: 0.8966 - val_loss: 0.6108 - val_acc: 0.8437\n",
      "\n",
      "Epoch 00018: val_acc did not improve from 0.85748\n",
      "Epoch 19/25\n",
      "42364/42364 [==============================] - 12s 276us/step - loss: 0.5064 - acc: 0.9014 - val_loss: 0.6105 - val_acc: 0.8180\n",
      "\n",
      "Epoch 00019: val_acc did not improve from 0.85748\n",
      "Epoch 20/25\n",
      "42364/42364 [==============================] - 12s 276us/step - loss: 0.4912 - acc: 0.9001 - val_loss: 0.7079 - val_acc: 0.7791\n",
      "\n",
      "Epoch 00020: val_acc did not improve from 0.85748\n",
      "Epoch 21/25\n",
      "42364/42364 [==============================] - 12s 274us/step - loss: 0.4756 - acc: 0.9016 - val_loss: 0.6364 - val_acc: 0.7853\n",
      "\n",
      "Epoch 00021: val_acc did not improve from 0.85748\n",
      "Epoch 22/25\n",
      "42364/42364 [==============================] - 12s 273us/step - loss: 0.4645 - acc: 0.9036 - val_loss: 0.5782 - val_acc: 0.8141\n",
      "\n",
      "Epoch 00022: val_acc did not improve from 0.85748\n",
      "Epoch 23/25\n",
      "42364/42364 [==============================] - 11s 270us/step - loss: 0.4508 - acc: 0.9069 - val_loss: 0.5959 - val_acc: 0.8052\n",
      "\n",
      "Epoch 00023: val_acc did not improve from 0.85748\n",
      "Epoch 24/25\n",
      "42364/42364 [==============================] - 12s 272us/step - loss: 0.4398 - acc: 0.9083 - val_loss: 0.6298 - val_acc: 0.7755\n",
      "\n",
      "Epoch 00024: val_acc did not improve from 0.85748\n",
      "Epoch 25/25\n",
      "42364/42364 [==============================] - 12s 277us/step - loss: 0.4309 - acc: 0.9101 - val_loss: 0.6409 - val_acc: 0.7742\n",
      "\n",
      "Epoch 00025: val_acc did not improve from 0.85748\n"
     ]
    }
   ],
   "source": [
    "history = model.fit(X_train, y_train, epochs = 25,validation_data = [X_test, y_test], callbacks = callbacks_list,verbose=1, batch_size = 1000)"
   ]
  },
  {
   "cell_type": "code",
   "execution_count": null,
   "metadata": {},
   "outputs": [],
   "source": [
    "X_test.shape\n",
    "np.expand_dims(X_test[0],axis = 0).shape"
   ]
  },
  {
   "cell_type": "code",
   "execution_count": null,
   "metadata": {},
   "outputs": [],
   "source": [
    "res = model.predict(np.expand_dims(X_test[0],axis=0))"
   ]
  },
  {
   "cell_type": "code",
   "execution_count": null,
   "metadata": {},
   "outputs": [],
   "source": [
    "print(res)\n",
    "print(np.argmax(res[0]))"
   ]
  },
  {
   "cell_type": "code",
   "execution_count": null,
   "metadata": {},
   "outputs": [],
   "source": [
    "np.argmax([0,1,0],axis = 0)"
   ]
  },
  {
   "cell_type": "code",
   "execution_count": null,
   "metadata": {},
   "outputs": [],
   "source": [
    "np.argmax(res,axis = 1)"
   ]
  },
  {
   "cell_type": "code",
   "execution_count": null,
   "metadata": {},
   "outputs": [],
   "source": [
    "print(inpData[0+1])"
   ]
  }
 ],
 "metadata": {
  "kernelspec": {
   "display_name": "Environment (conda_tensorflow_p36)",
   "language": "python",
   "name": "conda_tensorflow_p36"
  },
  "language_info": {
   "codemirror_mode": {
    "name": "ipython",
    "version": 3
   },
   "file_extension": ".py",
   "mimetype": "text/x-python",
   "name": "python",
   "nbconvert_exporter": "python",
   "pygments_lexer": "ipython3",
   "version": "3.6.5"
  }
 },
 "nbformat": 4,
 "nbformat_minor": 2
}

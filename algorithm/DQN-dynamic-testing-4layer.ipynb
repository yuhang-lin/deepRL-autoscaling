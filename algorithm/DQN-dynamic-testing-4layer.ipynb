{
 "cells": [
  {
   "cell_type": "code",
   "execution_count": 1,
   "metadata": {},
   "outputs": [
    {
     "name": "stderr",
     "output_type": "stream",
     "text": [
      "Using TensorFlow backend.\n"
     ]
    }
   ],
   "source": [
    "import random\n",
    "import gym\n",
    "import numpy as np\n",
    "from collections import deque\n",
    "from keras.models import Sequential\n",
    "from keras.layers import Dense\n",
    "from keras.optimizers import Adam\n",
    "import keras\n",
    "import csv\n",
    "from sklearn.model_selection import train_test_split\n",
    "from keras.utils import to_categorical\n",
    "from sklearn.metrics import accuracy_score\n",
    "from apscheduler.schedulers.background import BackgroundScheduler\n",
    "import datetime\n",
    "import matplotlib.pyplot as plt\n",
    "import time"
   ]
  },
  {
   "cell_type": "code",
   "execution_count": 2,
   "metadata": {},
   "outputs": [],
   "source": [
    "import sys, os\n",
    "sys.path.insert(0, os.path.abspath('..'))\n",
    "#from apis.getcpuinfo import cpuinfo \n",
    "from apis.getcpuinfonoscaling import cpuinfo "
   ]
  },
  {
   "cell_type": "code",
   "execution_count": 3,
   "metadata": {},
   "outputs": [],
   "source": [
    "# Definition for the agent\n",
    "class DQNAgent:\n",
    "    def __init__(self, state_size, action_size):\n",
    "        self.state_size = state_size\n",
    "        self.action_size = action_size\n",
    "        self.memory = deque(maxlen=2000)\n",
    "        self.gamma = 0.95    # discount rate\n",
    "        self.epsilon = 1.0  # exploration rate\n",
    "        self.epsilon_min = 0.01\n",
    "        self.epsilon_decay = 0.95\n",
    "        self.learning_rate = 0.001\n",
    "        self.model = self._build_model()\n",
    "\n",
    "    def _build_model(self):\n",
    "        # Neural Network for Deep-Q learning Model\n",
    "        model = Sequential()\n",
    "        model.add(Dense(24, input_dim=self.state_size, activation='relu'))\n",
    "        model.add(Dense(18, activation='relu'))\n",
    "        model.add(Dense(12, activation='relu'))\n",
    "        model.add(Dense(6, activation='relu'))\n",
    "        model.add(Dense(self.action_size, activation='linear'))\n",
    "        model.compile(loss='mse',\n",
    "                      optimizer=Adam(lr=self.learning_rate))\n",
    "        print(model.summary())\n",
    "        return model\n",
    "\n",
    "    def remember(self, state, action, reward, next_state, done):\n",
    "        self.memory.append((state, action, reward, next_state, done))\n",
    "\n",
    "    def act(self, state, is_train=True):\n",
    "        if is_train and np.random.rand() <= self.epsilon:\n",
    "            return random.randrange(self.action_size)\n",
    "        act_values = self.model.predict(state)\n",
    "        return np.argmax(act_values[0])  # returns action\n",
    "\n",
    "    def replay(self, batch_size):\n",
    "        minibatch = random.sample(self.memory, batch_size)\n",
    "        for state, action, reward, next_state, done in minibatch:\n",
    "            target = reward\n",
    "            if not done:\n",
    "                target = (reward + self.gamma *\n",
    "                          np.amax(self.model.predict(next_state)[0]))\n",
    "            target_f = self.model.predict(state)\n",
    "            target_f[0][action] = target\n",
    "            self.model.fit(state, target_f, epochs=1, verbose=0)\n",
    "        if self.epsilon > self.epsilon_min:\n",
    "            self.epsilon *= self.epsilon_decay\n",
    "\n",
    "    def load(self, name):\n",
    "        self.model.load_weights(name)\n",
    "\n",
    "    def save(self, name):\n",
    "        self.model.save_weights(name)"
   ]
  },
  {
   "cell_type": "code",
   "execution_count": 4,
   "metadata": {},
   "outputs": [],
   "source": [
    "# Definition for the environment\n",
    "class Environment:\n",
    "    def __init__(self, data, expected):\n",
    "        self.counter = 0\n",
    "        self.window = 50\n",
    "        self.data = data\n",
    "        self.expected = expected\n",
    "        \n",
    "    def reset(self):\n",
    "        # return the initial state\n",
    "        state = self.data[0]\n",
    "        self.counter = 0\n",
    "        return state\n",
    "    \n",
    "    def get_reward(self, action):\n",
    "        if np.argmax(self.expected[self.counter - 1]) != action:\n",
    "            return -1\n",
    "        return 1\n",
    "\n",
    "    def step(self, action):\n",
    "        # use the specified action to get the next state\n",
    "        self.counter += 1\n",
    "        done = False\n",
    "        next_state = self.data[self.counter]\n",
    "        reward = self.get_reward(action)\n",
    "        if (self.counter + 1 == len(self.data)):\n",
    "            done = True\n",
    "        return next_state, reward, done"
   ]
  },
  {
   "cell_type": "code",
   "execution_count": 5,
   "metadata": {},
   "outputs": [],
   "source": [
    "# Settings for training or testing\n",
    "window = 50\n",
    "state_size = window\n",
    "action_size = 3 # 1, 0 and -1\n",
    "\n",
    "batch_size = 100\n",
    "EPISODES = 1500"
   ]
  },
  {
   "cell_type": "code",
   "execution_count": 6,
   "metadata": {},
   "outputs": [],
   "source": [
    "# Testing the agent\n",
    "# env = Environment(X_test, y_test)\n",
    "# action_list = []\n",
    "# agent = DQNAgent(state_size, action_size)\n",
    "# agent.load(\"./save/dqn-93.h5\")\n",
    "# done = False\n",
    "# for e in range(1):\n",
    "#     state = env.reset()\n",
    "#     state = np.reshape(state, [1, state_size])\n",
    "#     while True:\n",
    "#         action = agent.act(state, False)\n",
    "#         action_list.append(action)\n",
    "#         if done:\n",
    "#             break\n",
    "#         next_state, reward, done = env.step(action)\n",
    "#         next_state = np.reshape(next_state, [1, state_size])\n",
    "#         state = next_state"
   ]
  },
  {
   "cell_type": "code",
   "execution_count": 7,
   "metadata": {},
   "outputs": [],
   "source": [
    "predict_dict = {0:0, 1:1, 2:-1}"
   ]
  },
  {
   "cell_type": "code",
   "execution_count": 8,
   "metadata": {},
   "outputs": [],
   "source": [
    "def appendToList(oldList,newList,maxLength):\n",
    "    #append to the new entries\n",
    "    #oldList = np.insert(oldList,0,np.array([newList]),axis = 0)\n",
    "    oldList = np.append(oldList,np.array([newList]),axis = 0)\n",
    "    #Remove oldest row if there are more than 50 entries\n",
    "    if(oldList.shape[0]>maxLength):\n",
    "        oldList = oldList[1:,:]\n",
    "    return oldList\n",
    "\n",
    "def getPredictionsForOneTimeStep(model,usageList,maxLengthParam):\n",
    "    currUsageList = cpuinfo()\n",
    "    for i in range(len(currUsageList)):\n",
    "        currUsageList[i] /= 100.0\n",
    "    updatedList = appendToList(usageList,currUsageList,maxLengthParam)\n",
    "    predictions = []\n",
    "    predDict = {0:0,1:1,2:-1}\n",
    "    for i in range(updatedList.shape[1]): \n",
    "        if updatedList.shape[0]==maxLengthParam:\n",
    "            modelOutput = model.predict(np.reshape(updatedList[:,i], [1, state_size]))\n",
    "            #modelOutput = model.predict(np.expand_dims(np.expand_dims(updatedList[:,i],axis = 1),axis = 0))\n",
    "            #print(modelOutput)\n",
    "            modelPrediction = predDict[np.argmax(modelOutput)]\n",
    "            predictions.append(modelPrediction)\n",
    "        else:\n",
    "            predictions.append(0)\n",
    "    return predictions, updatedList\n",
    "\n",
    "\n",
    "def getRightOutputs(usageList,minThreshold, maxThreshold):\n",
    "    currList = usageList[0,:]\n",
    "    for i in range(len(currList)):\n",
    "        currList[i] *= 100.0\n",
    "    print(currList)\n",
    "    target = []\n",
    "    for i in range(usageList.shape[1]):\n",
    "        if currList[i] > maxThreshold:# Scale Up\n",
    "            #print(\"MaxThres \",maxThreshold,\" \",currList[i])\n",
    "            target.append(1)\n",
    "        elif currList[i] < minThreshold: # Scale Down\n",
    "            #print(\"MinThres \",minThreshold,\" \",currList[i])\n",
    "            target.append(-1)\n",
    "        else:\n",
    "            #print(\"Same \",currList[i])\n",
    "            target.append(0)  #Remain same\n",
    "    return target     \n",
    "\n",
    "def callAPIWithPredictions(predictions,URL):\n",
    "    headers = {\n",
    "        'Content-Type': 'application/json',\n",
    "    }\n",
    "    data = '{\"predictions\":['+ ','.join(str(num) for num in predictions) +']}'\n",
    "    print(data)\n",
    "    response = requests.post(URL, headers=headers, data=data)\n",
    "       \n",
    "class Prediction():\n",
    "    def __init__(self, model, maxLengthParam,containerCount,minThreshold, maxThreshold):\n",
    "        self.usageArray = np.empty(shape = (0,containerCount))\n",
    "        self.correctOutputArray = np.empty(shape = (0,containerCount))\n",
    "        self.predictionsArray = np.empty(shape = (0,containerCount))\n",
    "        self.model = model\n",
    "        self.maxLengthParam = maxLengthParam\n",
    "        self.minThreshold = minThreshold\n",
    "        self.maxThreshold = maxThreshold\n",
    "        self.lastPredictions = [-1, -1, -1, 0]\n",
    "        self.accuracy_list = []\n",
    "    \n",
    "    def generatePredictions(self): \n",
    "        predictions,self.usageArray = getPredictionsForOneTimeStep(self.model,self.usageArray,self.maxLengthParam)       \n",
    "        self.predictionsArray = appendToList(self.predictionsArray, predictions, self.maxLengthParam)\n",
    "        if (self.usageArray.shape[0]==self.maxLengthParam):\n",
    "            correctOutputsList = getRightOutputs(self.usageArray,self.minThreshold, self.maxThreshold)\n",
    "            self.correctOutputArray = appendToList(self.correctOutputArray, correctOutputsList, self.maxLengthParam)\n",
    "            print(\"Last predicted actions: \", self.lastPredictions)\n",
    "            print(\"Last expected actions: \",correctOutputsList) \n",
    "            accuracy = accuracy_score(self.lastPredictions,correctOutputsList)\n",
    "            print(\"Last accuracy (%): \", accuracy * 100.0)\n",
    "            self.accuracy_list.append(accuracy)\n",
    "            #print(\"Predictions: \",predictions)            \n",
    "            #callAPIWithPredictions(predictions,\"http://152.46.16.189:5000/changeVCPU\")\n",
    "            #callAPIWithPredictions(predictions,\"http://152.46.19.80:5000/changeVCPU\")\n",
    "            self.lastPredictions = predictions"
   ]
  },
  {
   "cell_type": "code",
   "execution_count": 9,
   "metadata": {},
   "outputs": [],
   "source": [
    "def getDQNModel(maxLengthParam):\n",
    "    model = Sequential()\n",
    "    model.add(Dense(24, input_dim=50, activation='relu'))\n",
    "    model.add(Dense(18, activation='relu'))\n",
    "    model.add(Dense(12, activation='relu'))\n",
    "    model.add(Dense(6, activation='relu'))\n",
    "    model.add(Dense(3, activation='linear'))\n",
    "    model.compile(loss='mse',\n",
    "                  optimizer=Adam(lr=0.001))\n",
    "    if os.path.isfile(\"dqn-4layer.h5\"):\n",
    "        model.load_weights(\"dqn-4layer.h5\")\n",
    "        model.summary()\n",
    "        return model\n",
    "    else:\n",
    "        print(\"Unable to find trained model\")\n",
    "        return -1;"
   ]
  },
  {
   "cell_type": "code",
   "execution_count": 10,
   "metadata": {},
   "outputs": [],
   "source": [
    "def plot_line_graph(data):\n",
    "    fig = plt.gcf()\n",
    "    #fig.set_size_inches(18.5, 10.5)\n",
    "    t = np.arange(0.01, len(data), 1)\n",
    "    plt.plot(t, data) \n",
    "    # make these tick labels visible\n",
    "    plt.xlabel('Time', fontsize=18)\n",
    "    plt.ylabel('Accuracy', fontsize=18)\n",
    "    plt.show()"
   ]
  },
  {
   "cell_type": "code",
   "execution_count": 11,
   "metadata": {},
   "outputs": [],
   "source": [
    "temp = cpuinfo()"
   ]
  },
  {
   "cell_type": "code",
   "execution_count": 12,
   "metadata": {},
   "outputs": [
    {
     "name": "stdout",
     "output_type": "stream",
     "text": [
      "WARNING:tensorflow:From /home/ubuntu/anaconda3/envs/tensorflow_p36/lib/python3.6/site-packages/tensorflow/python/framework/op_def_library.py:263: colocate_with (from tensorflow.python.framework.ops) is deprecated and will be removed in a future version.\n",
      "Instructions for updating:\n",
      "Colocations handled automatically by placer.\n",
      "_________________________________________________________________\n",
      "Layer (type)                 Output Shape              Param #   \n",
      "=================================================================\n",
      "dense_1 (Dense)              (None, 24)                1224      \n",
      "_________________________________________________________________\n",
      "dense_2 (Dense)              (None, 18)                450       \n",
      "_________________________________________________________________\n",
      "dense_3 (Dense)              (None, 12)                228       \n",
      "_________________________________________________________________\n",
      "dense_4 (Dense)              (None, 6)                 78        \n",
      "_________________________________________________________________\n",
      "dense_5 (Dense)              (None, 3)                 21        \n",
      "=================================================================\n",
      "Total params: 2,001\n",
      "Trainable params: 2,001\n",
      "Non-trainable params: 0\n",
      "_________________________________________________________________\n"
     ]
    }
   ],
   "source": [
    "dqn_model = getDQNModel(50)"
   ]
  },
  {
   "cell_type": "code",
   "execution_count": 13,
   "metadata": {},
   "outputs": [
    {
     "name": "stdout",
     "output_type": "stream",
     "text": [
      "_________________________________________________________________\n",
      "Layer (type)                 Output Shape              Param #   \n",
      "=================================================================\n",
      "dense_6 (Dense)              (None, 24)                1224      \n",
      "_________________________________________________________________\n",
      "dense_7 (Dense)              (None, 18)                450       \n",
      "_________________________________________________________________\n",
      "dense_8 (Dense)              (None, 12)                228       \n",
      "_________________________________________________________________\n",
      "dense_9 (Dense)              (None, 6)                 78        \n",
      "_________________________________________________________________\n",
      "dense_10 (Dense)             (None, 3)                 21        \n",
      "=================================================================\n",
      "Total params: 2,001\n",
      "Trainable params: 2,001\n",
      "Non-trainable params: 0\n",
      "_________________________________________________________________\n",
      "[26.4890047 26.6538099 37.7127969 87.8628684]\n",
      "Last predicted actions:  [-1, -1, -1, 0]\n",
      "Last expected actions:  [-1, -1, 0, 1]\n",
      "Last accuracy (%):  50.0\n"
     ]
    }
   ],
   "source": [
    "dqn_model = getDQNModel(50)\n",
    "temp = cpuinfo()\n",
    "test = Prediction(dqn_model,50,len(temp),30,70)\n",
    "for i in range(50):\n",
    "    time.sleep(2)\n",
    "    test.generatePredictions()"
   ]
  },
  {
   "cell_type": "code",
   "execution_count": 14,
   "metadata": {
    "scrolled": true
   },
   "outputs": [
    {
     "name": "stdout",
     "output_type": "stream",
     "text": [
      "2019-04-26 14:09:02.339036\n"
     ]
    }
   ],
   "source": [
    "sched = BackgroundScheduler()\n",
    "sched.add_job(test.generatePredictions, 'interval', seconds=2)\n",
    "sched.start()\n",
    "print(datetime.datetime.now())"
   ]
  },
  {
   "cell_type": "code",
   "execution_count": 50,
   "metadata": {},
   "outputs": [
    {
     "data": {
      "image/png": "[encoded data removed]",
      "text/plain": [
       "<Figure size 432x288 with 1 Axes>"
      ]
     },
     "metadata": {},
     "output_type": "display_data"
    },
    {
     "name": "stdout",
     "output_type": "stream",
     "text": [
      "[38.8655153 27.6017182 60.6395993 86.6087568]\n",
      "Last predicted actions:  [0, 0, 0, 1]\n",
      "Last expected actions:  [0, -1, 0, 1]\n",
      "Last accuracy (%):  75.0\n",
      "[27.6649022 33.8991663 41.2079724 75.1743391]\n",
      "Last predicted actions:  [0, 0, 0, 1]\n",
      "Last expected actions:  [-1, 0, 0, 1]\n",
      "Last accuracy (%):  75.0\n",
      "[37.4923291 33.1221184 55.2629872 89.3885988]\n",
      "Last predicted actions:  [0, 0, 0, 1]\n",
      "Last expected actions:  [0, 0, 0, 1]\n",
      "Last accuracy (%):  100.0\n",
      "[35.3328784 32.0044407 49.7285685 94.2142032]\n",
      "Last predicted actions:  [0, 0, 0, 1]\n",
      "Last expected actions:  [0, 0, 0, 1]\n",
      "Last accuracy (%):  100.0\n",
      "[31.065084  31.1951572 52.7379113 83.5315548]\n",
      "Last predicted actions:  [0, 0, 0, 1]\n",
      "Last expected actions:  [0, 0, 0, 1]\n",
      "Last accuracy (%):  100.0\n",
      "[ 41.2446506  32.2005643  57.4949308 111.8669358]\n",
      "Last predicted actions:  [0, 0, 0, 1]\n",
      "Last expected actions:  [0, 0, 0, 1]\n",
      "Last accuracy (%):  100.0\n",
      "[ 36.274242   34.7281967  55.623514  105.1339515]\n",
      "Last predicted actions:  [0, 0, 0, 1]\n",
      "Last expected actions:  [0, 0, 0, 1]\n",
      "Last accuracy (%):  100.0\n",
      "[28.7888718 25.8597434 43.7449778 92.7784932]\n",
      "Last predicted actions:  [0, 0, 0, 1]\n",
      "Last expected actions:  [-1, -1, 0, 1]\n",
      "Last accuracy (%):  50.0\n",
      "[30.7513227 27.4163213 43.1292876 69.9016662]\n",
      "Last predicted actions:  [0, 0, 0, 1]\n",
      "Last expected actions:  [0, -1, 0, 0]\n",
      "Last accuracy (%):  50.0\n",
      "[32.4468334 32.0606424 53.8441759 90.9129412]\n",
      "Last predicted actions:  [0, 0, 0, 1]\n",
      "Last expected actions:  [0, 0, 0, 1]\n",
      "Last accuracy (%):  100.0\n",
      "[30.6622733 30.0197025 43.2990783 77.0448724]\n",
      "Last predicted actions:  [0, 0, 0, 0]\n",
      "Last expected actions:  [0, 0, 0, 1]\n",
      "Last accuracy (%):  75.0\n"
     ]
    }
   ],
   "source": [
    "plot_line_graph(test.accuracy_list)"
   ]
  },
  {
   "cell_type": "code",
   "execution_count": 52,
   "metadata": {},
   "outputs": [],
   "source": [
    "sched.shutdown() # shutdown the scheduler"
   ]
  },
  {
   "cell_type": "code",
   "execution_count": 54,
   "metadata": {},
   "outputs": [
    {
     "name": "stdout",
     "output_type": "stream",
     "text": [
      "0.7661662817551963\n"
     ]
    }
   ],
   "source": [
    "print(sum(test.accuracy_list) / len(test.accuracy_list))"
   ]
  },
  {
   "cell_type": "code",
   "execution_count": null,
   "metadata": {},
   "outputs": [],
   "source": []
  }
 ],
 "metadata": {
  "kernelspec": {
   "display_name": "Environment (conda_tensorflow_p36)",
   "language": "python",
   "name": "conda_tensorflow_p36"
  },
  "language_info": {
   "codemirror_mode": {
    "name": "ipython",
    "version": 3
   },
   "file_extension": ".py",
   "mimetype": "text/x-python",
   "name": "python",
   "nbconvert_exporter": "python",
   "pygments_lexer": "ipython3",
   "version": "3.6.5"
  }
 },
 "nbformat": 4,
 "nbformat_minor": 2
}

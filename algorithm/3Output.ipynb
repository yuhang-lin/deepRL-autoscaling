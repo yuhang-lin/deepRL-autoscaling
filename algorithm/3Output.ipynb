{
 "cells": [
  {
   "cell_type": "markdown",
   "metadata": {},
   "source": [
    "### Load Libraries"
   ]
  },
  {
   "cell_type": "code",
   "execution_count": 74,
   "metadata": {},
   "outputs": [],
   "source": [
    "import numpy as np\n",
    "import tensorflow as tf\n",
    "from keras.models import Sequential\n",
    "from keras.layers import Dense, Dropout, Flatten, Input\n",
    "from keras.layers import LSTM, SpatialDropout1D \n",
    "from sklearn.model_selection import train_test_split\n",
    "import csv\n",
    "import keras\n",
    "from keras.utils import to_categorical\n",
    "from keras.callbacks import ModelCheckpoint\n",
    "import os"
   ]
  },
  {
   "cell_type": "markdown",
   "metadata": {},
   "source": [
    "### Load Raw Training Data"
   ]
  },
  {
   "cell_type": "code",
   "execution_count": 2,
   "metadata": {},
   "outputs": [],
   "source": [
    "inpData = []\n",
    "labels = []\n",
    "with open('cdata.csv') as csv_file:\n",
    "    lines = csv.reader(csv_file, delimiter=',')\n",
    "    for row in lines:\n",
    "        labels.append(row[0])\n",
    "        inpData.append(float(row[1]))\n",
    "        "
   ]
  },
  {
   "cell_type": "markdown",
   "metadata": {},
   "source": [
    "### Set the Target Labels"
   ]
  },
  {
   "cell_type": "code",
   "execution_count": 3,
   "metadata": {},
   "outputs": [],
   "source": [
    "minThreshold = 30\n",
    "maxThreshold = 70\n",
    "target = []\n",
    "index = 0\n",
    "while index + 1 < len(inpData):\n",
    "    if inpData[index + 1] > maxThreshold:\n",
    "        target.append(1)\n",
    "    elif inpData[index + 1] < minThreshold:\n",
    "        target.append(-1)\n",
    "    else:\n",
    "        target.append(0)\n",
    "    index += 1"
   ]
  },
  {
   "cell_type": "code",
   "execution_count": null,
   "metadata": {},
   "outputs": [],
   "source": [
    "print(target)"
   ]
  },
  {
   "cell_type": "markdown",
   "metadata": {},
   "source": [
    "### Preprocessing Input Data"
   ]
  },
  {
   "cell_type": "code",
   "execution_count": 4,
   "metadata": {},
   "outputs": [],
   "source": [
    "cpuUsage = []\n",
    "cpuScaling = []\n",
    "historyParam = 50\n",
    "index = historyParam\n",
    "\n",
    "while index<len(inpData):\n",
    "    currRec = [[inpData[i]] for i in range(index-historyParam,index)]\n",
    "    cpuUsage.append(currRec)\n",
    "    index+=1\n",
    "    "
   ]
  },
  {
   "cell_type": "code",
   "execution_count": 5,
   "metadata": {},
   "outputs": [],
   "source": [
    "cpuScaling = target[historyParam-1:len(target)]\n",
    "\n",
    "\n",
    "cpuUsageData = np.array(cpuUsage,dtype = 'float')\n",
    "cpuScaling = np.array(cpuScaling,dtype = 'float')\n",
    "\n",
    "cpuScalingCategorical = to_categorical(cpuScaling, num_classes = 3)"
   ]
  },
  {
   "cell_type": "code",
   "execution_count": 6,
   "metadata": {},
   "outputs": [],
   "source": [
    "#len(inpData)\n",
    "X_train, X_test, y_train, y_test = train_test_split(cpuUsageData , cpuScalingCategorical, test_size=0.25, random_state=42)"
   ]
  },
  {
   "cell_type": "code",
   "execution_count": 17,
   "metadata": {},
   "outputs": [
    {
     "data": {
      "text/plain": [
       "(5035, 50, 1)"
      ]
     },
     "execution_count": 17,
     "metadata": {},
     "output_type": "execute_result"
    }
   ],
   "source": [
    "cpuUsageData.shape\n",
    "#np.shape(cpuUsage)"
   ]
  },
  {
   "cell_type": "code",
   "execution_count": 18,
   "metadata": {},
   "outputs": [
    {
     "data": {
      "text/plain": [
       "(5035, 3)"
      ]
     },
     "execution_count": 18,
     "metadata": {},
     "output_type": "execute_result"
    }
   ],
   "source": [
    "cpuScalingCategorical.shape"
   ]
  },
  {
   "cell_type": "code",
   "execution_count": 69,
   "metadata": {},
   "outputs": [],
   "source": [
    "model = Sequential()\n",
    "#model.add(SpatialDropout1D(0.3))\n",
    "model.add(Flatten(batch_input_shape = (None,50,1)))\n",
    "model.add(Dense(50, activation = \"relu\"))\n",
    "model.add(Dropout(0.3, noise_shape=None, seed=None))\n",
    "model.add(Dense(25, activation = 'relu'))\n",
    "model.add(Dropout(0.3, noise_shape=None, seed=None))\n",
    "#model.add(SpatialDropout1D(0.3))\n",
    "model.add(Dense(12,activation = 'relu'))\n",
    "model.add(Dropout(0.3, noise_shape=None, seed=None))\n",
    "model.add(Dense(6,activation = 'relu'))\n",
    "model.add(Dropout(0.3, noise_shape=None, seed=None))\n",
    "model.add(Dense(3, activation='softmax'))\n",
    "model.compile(loss = 'categorical_crossentropy', optimizer = 'adam',metrics = ['accuracy'])\n",
    "#model.summary()"
   ]
  },
  {
   "cell_type": "code",
   "execution_count": 70,
   "metadata": {},
   "outputs": [
    {
     "name": "stdout",
     "output_type": "stream",
     "text": [
      "_________________________________________________________________\n",
      "Layer (type)                 Output Shape              Param #   \n",
      "=================================================================\n",
      "flatten_3 (Flatten)          (None, 50)                0         \n",
      "_________________________________________________________________\n",
      "dense_83 (Dense)             (None, 50)                2550      \n",
      "_________________________________________________________________\n",
      "dropout_53 (Dropout)         (None, 50)                0         \n",
      "_________________________________________________________________\n",
      "dense_84 (Dense)             (None, 25)                1275      \n",
      "_________________________________________________________________\n",
      "dropout_54 (Dropout)         (None, 25)                0         \n",
      "_________________________________________________________________\n",
      "dense_85 (Dense)             (None, 12)                312       \n",
      "_________________________________________________________________\n",
      "dropout_55 (Dropout)         (None, 12)                0         \n",
      "_________________________________________________________________\n",
      "dense_86 (Dense)             (None, 6)                 78        \n",
      "_________________________________________________________________\n",
      "dropout_56 (Dropout)         (None, 6)                 0         \n",
      "_________________________________________________________________\n",
      "dense_87 (Dense)             (None, 3)                 21        \n",
      "=================================================================\n",
      "Total params: 4,236\n",
      "Trainable params: 4,236\n",
      "Non-trainable params: 0\n",
      "_________________________________________________________________\n"
     ]
    }
   ],
   "source": [
    "model.summary()"
   ]
  },
  {
   "cell_type": "code",
   "execution_count": 75,
   "metadata": {},
   "outputs": [],
   "source": [
    "filepath=\"3OutputDNNBestWeights.hdf5\"\n",
    "checkpoint = ModelCheckpoint(filepath, monitor='val_acc', verbose=1, save_best_only=True, mode='max')\n",
    "callbacks_list = [checkpoint]"
   ]
  },
  {
   "cell_type": "code",
   "execution_count": null,
   "metadata": {},
   "outputs": [],
   "source": [
    "if os.path.isfile(\"3OutputDNNBestWeights.hdf5\"):\n",
    "    #print(\"Hey\")\n",
    "    model.load_weights(\"3OutputDNNBestWeights.hdf5\")"
   ]
  },
  {
   "cell_type": "code",
   "execution_count": 76,
   "metadata": {},
   "outputs": [
    {
     "name": "stdout",
     "output_type": "stream",
     "text": [
      "\n",
      "Epoch 00001: val_acc improved from -inf to 0.93328, saving model to 3OutputDNNBestWeights.hdf5\n",
      "\n",
      "Epoch 00002: val_acc did not improve from 0.93328\n",
      "\n",
      "Epoch 00003: val_acc did not improve from 0.93328\n",
      "\n",
      "Epoch 00004: val_acc did not improve from 0.93328\n",
      "\n",
      "Epoch 00005: val_acc did not improve from 0.93328\n",
      "\n",
      "Epoch 00006: val_acc did not improve from 0.93328\n",
      "\n",
      "Epoch 00007: val_acc did not improve from 0.93328\n",
      "\n",
      "Epoch 00008: val_acc did not improve from 0.93328\n",
      "\n",
      "Epoch 00009: val_acc did not improve from 0.93328\n",
      "\n",
      "Epoch 00010: val_acc did not improve from 0.93328\n",
      "\n",
      "Epoch 00011: val_acc did not improve from 0.93328\n",
      "\n",
      "Epoch 00012: val_acc did not improve from 0.93328\n",
      "\n",
      "Epoch 00013: val_acc did not improve from 0.93328\n",
      "\n",
      "Epoch 00014: val_acc did not improve from 0.93328\n",
      "\n",
      "Epoch 00015: val_acc did not improve from 0.93328\n",
      "\n",
      "Epoch 00016: val_acc did not improve from 0.93328\n",
      "\n",
      "Epoch 00017: val_acc did not improve from 0.93328\n",
      "\n",
      "Epoch 00018: val_acc did not improve from 0.93328\n",
      "\n",
      "Epoch 00019: val_acc did not improve from 0.93328\n",
      "\n",
      "Epoch 00020: val_acc did not improve from 0.93328\n",
      "\n",
      "Epoch 00021: val_acc did not improve from 0.93328\n",
      "\n",
      "Epoch 00022: val_acc did not improve from 0.93328\n",
      "\n",
      "Epoch 00023: val_acc improved from 0.93328 to 0.93566, saving model to 3OutputDNNBestWeights.hdf5\n",
      "\n",
      "Epoch 00024: val_acc did not improve from 0.93566\n",
      "\n",
      "Epoch 00025: val_acc did not improve from 0.93566\n",
      "\n",
      "Epoch 00026: val_acc did not improve from 0.93566\n",
      "\n",
      "Epoch 00027: val_acc did not improve from 0.93566\n",
      "\n",
      "Epoch 00028: val_acc did not improve from 0.93566\n",
      "\n",
      "Epoch 00029: val_acc did not improve from 0.93566\n",
      "\n",
      "Epoch 00030: val_acc did not improve from 0.93566\n",
      "\n",
      "Epoch 00031: val_acc did not improve from 0.93566\n",
      "\n",
      "Epoch 00032: val_acc did not improve from 0.93566\n",
      "\n",
      "Epoch 00033: val_acc did not improve from 0.93566\n",
      "\n",
      "Epoch 00034: val_acc did not improve from 0.93566\n",
      "\n",
      "Epoch 00035: val_acc improved from 0.93566 to 0.93646, saving model to 3OutputDNNBestWeights.hdf5\n",
      "\n",
      "Epoch 00036: val_acc did not improve from 0.93646\n",
      "\n",
      "Epoch 00037: val_acc did not improve from 0.93646\n",
      "\n",
      "Epoch 00038: val_acc did not improve from 0.93646\n",
      "\n",
      "Epoch 00039: val_acc did not improve from 0.93646\n",
      "\n",
      "Epoch 00040: val_acc did not improve from 0.93646\n",
      "\n",
      "Epoch 00041: val_acc did not improve from 0.93646\n",
      "\n",
      "Epoch 00042: val_acc did not improve from 0.93646\n",
      "\n",
      "Epoch 00043: val_acc did not improve from 0.93646\n",
      "\n",
      "Epoch 00044: val_acc did not improve from 0.93646\n",
      "\n",
      "Epoch 00045: val_acc improved from 0.93646 to 0.93725, saving model to 3OutputDNNBestWeights.hdf5\n",
      "\n",
      "Epoch 00046: val_acc did not improve from 0.93725\n",
      "\n",
      "Epoch 00047: val_acc did not improve from 0.93725\n",
      "\n",
      "Epoch 00048: val_acc did not improve from 0.93725\n",
      "\n",
      "Epoch 00049: val_acc did not improve from 0.93725\n",
      "\n",
      "Epoch 00050: val_acc did not improve from 0.93725\n"
     ]
    }
   ],
   "source": [
    "history = model.fit(X_train, y_train, epochs = 50,validation_data = [X_test, y_test],verbose = 0, callbacks = callbacks_list)"
   ]
  },
  {
   "cell_type": "code",
   "execution_count": null,
   "metadata": {},
   "outputs": [],
   "source": []
  },
  {
   "cell_type": "code",
   "execution_count": null,
   "metadata": {},
   "outputs": [],
   "source": [
    "res = model.predict(X_test,batch_size = 1)"
   ]
  },
  {
   "cell_type": "code",
   "execution_count": null,
   "metadata": {},
   "outputs": [],
   "source": []
  },
  {
   "cell_type": "code",
   "execution_count": null,
   "metadata": {},
   "outputs": [],
   "source": [
    "print(res)"
   ]
  },
  {
   "cell_type": "code",
   "execution_count": null,
   "metadata": {},
   "outputs": [],
   "source": [
    "np.argmax(res,axis = 1)"
   ]
  },
  {
   "cell_type": "code",
   "execution_count": null,
   "metadata": {},
   "outputs": [],
   "source": [
    "print(inpData[0+1])"
   ]
  }
 ],
 "metadata": {
  "kernelspec": {
   "display_name": "Environment (conda_tensorflow_p27)",
   "language": "python",
   "name": "conda_tensorflow_p27"
  },
  "language_info": {
   "codemirror_mode": {
    "name": "ipython",
    "version": 2
   },
   "file_extension": ".py",
   "mimetype": "text/x-python",
   "name": "python",
   "nbconvert_exporter": "python",
   "pygments_lexer": "ipython2",
   "version": "2.7.15"
  }
 },
 "nbformat": 4,
 "nbformat_minor": 2
}

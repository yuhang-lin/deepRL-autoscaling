{
 "cells": [
  {
   "cell_type": "markdown",
   "metadata": {},
   "source": [
    "### Load Libraries"
   ]
  },
  {
   "cell_type": "code",
   "execution_count": 1,
   "metadata": {},
   "outputs": [
    {
     "name": "stderr",
     "output_type": "stream",
     "text": [
      "Using TensorFlow backend.\n"
     ]
    }
   ],
   "source": [
    "%matplotlib inline\n",
    "from __future__ import print_function\n",
    "import numpy as np\n",
    "import tensorflow as tf\n",
    "from keras.models import Sequential\n",
    "from keras.layers import Dense, Dropout, Flatten, Input\n",
    "from keras.layers import LSTM, SpatialDropout1D \n",
    "from sklearn.model_selection import train_test_split\n",
    "import csv\n",
    "import keras\n",
    "from keras.utils import to_categorical\n",
    "from keras.callbacks import ModelCheckpoint\n",
    "import os\n",
    "#from getcpuinfo import cpuinfo\n",
    "import matplotlib\n",
    "import numpy as np\n",
    "import matplotlib.pyplot as plt\n",
    "import requests\n",
    "from apscheduler.schedulers.background import BackgroundScheduler\n",
    "import datetime\n",
    "from keras import regularizers"
   ]
  },
  {
   "cell_type": "markdown",
   "metadata": {},
   "source": [
    "### Load Raw Training Data"
   ]
  },
  {
   "cell_type": "code",
   "execution_count": 2,
   "metadata": {},
   "outputs": [],
   "source": [
    "inpData = []\n",
    "labels = []\n",
    "\n",
    "'''\n",
    "with open('cdata.csv') as csv_file:\n",
    "    lines = csv.reader(csv_file, delimiter=',')\n",
    "    for row in lines:\n",
    "        labels.append(row[0])\n",
    "        inpData.append(float(row[1]))\n",
    "'''\n",
    "inpDataArray = np.loadtxt(\"usageData.csv\",delimiter = ',') "
   ]
  },
  {
   "cell_type": "markdown",
   "metadata": {},
   "source": [
    "### Set the Target Labels"
   ]
  },
  {
   "cell_type": "code",
   "execution_count": 3,
   "metadata": {},
   "outputs": [],
   "source": [
    "minThreshold = 30\n",
    "maxThreshold = 70\n",
    "target = []\n",
    "cpuUsage = []\n",
    "historyParam = 50\n",
    "for i in range(0,inpDataArray.shape[1]):\n",
    "    inpData = inpDataArray[:,i]\n",
    "    index = historyParam\n",
    "    while index < len(inpData):\n",
    "        currRec = inpData[index-historyParam:index]\n",
    "        if inpData[index] > maxThreshold:# Scale Up\n",
    "            target.append(1)\n",
    "        elif inpData[index] < minThreshold: # Scale Down\n",
    "            target.append(-1)\n",
    "        else:\n",
    "            target.append(0)  #Remain same\n",
    "        cpuUsage.append(currRec)\n",
    "        index += 1"
   ]
  },
  {
   "cell_type": "code",
   "execution_count": 4,
   "metadata": {},
   "outputs": [
    {
     "name": "stdout",
     "output_type": "stream",
     "text": [
      "(47072,)\n",
      "(47072, 50, 1)\n"
     ]
    }
   ],
   "source": [
    "cpuUsageData = np.expand_dims(np.array(cpuUsage,dtype = 'float'),axis = 2)\n",
    "cpuScaling = np.array(target,dtype = 'float')\n",
    "print(cpuScaling.shape)\n",
    "print(cpuUsageData.shape)\n",
    "\n",
    "cpuScalingCategorical = to_categorical(cpuScaling, num_classes = 3)"
   ]
  },
  {
   "cell_type": "markdown",
   "metadata": {},
   "source": [
    "### Preprocessing Input Data"
   ]
  },
  {
   "cell_type": "code",
   "execution_count": 5,
   "metadata": {},
   "outputs": [
    {
     "data": {
      "text/plain": [
       "'cpuUsage = []\\ncpuScaling = []\\nhistoryParam = 50\\nindex = historyParam\\n\\nwhile index<len(inpData):\\n    currRec = [[inpData[i]] for i in range(index-historyParam,index)]\\n    cpuUsage.append(currRec)\\n    index+=1'"
      ]
     },
     "execution_count": 5,
     "metadata": {},
     "output_type": "execute_result"
    }
   ],
   "source": [
    "'''cpuUsage = []\n",
    "cpuScaling = []\n",
    "historyParam = 50\n",
    "index = historyParam\n",
    "\n",
    "while index<len(inpData):\n",
    "    currRec = [[inpData[i]] for i in range(index-historyParam,index)]\n",
    "    cpuUsage.append(currRec)\n",
    "    index+=1'''\n",
    "    "
   ]
  },
  {
   "cell_type": "code",
   "execution_count": 6,
   "metadata": {},
   "outputs": [
    {
     "data": {
      "text/plain": [
       "\"cpuScaling = target[historyParam-1:len(target)]\\n\\n\\ncpuUsageData = np.array(cpuUsage,dtype = 'float')\\ncpuScaling = np.array(cpuScaling,dtype = 'float')\\n\\ncpuScalingCategorical = to_categorical(cpuScaling, num_classes = 3)\""
      ]
     },
     "execution_count": 6,
     "metadata": {},
     "output_type": "execute_result"
    }
   ],
   "source": [
    "'''cpuScaling = target[historyParam-1:len(target)]\n",
    "\n",
    "\n",
    "cpuUsageData = np.array(cpuUsage,dtype = 'float')\n",
    "cpuScaling = np.array(cpuScaling,dtype = 'float')\n",
    "\n",
    "cpuScalingCategorical = to_categorical(cpuScaling, num_classes = 3)'''"
   ]
  },
  {
   "cell_type": "code",
   "execution_count": 7,
   "metadata": {},
   "outputs": [],
   "source": [
    "#len(inpData)\n",
    "X_train, X_test, y_train, y_test = train_test_split(cpuUsageData , cpuScalingCategorical, test_size=0.25, random_state=42)"
   ]
  },
  {
   "cell_type": "code",
   "execution_count": 8,
   "metadata": {},
   "outputs": [
    {
     "data": {
      "text/plain": [
       "(47072, 50, 1)"
      ]
     },
     "execution_count": 8,
     "metadata": {},
     "output_type": "execute_result"
    }
   ],
   "source": [
    "cpuUsageData.shape\n",
    "#np.shape(cpuUsage)"
   ]
  },
  {
   "cell_type": "code",
   "execution_count": 9,
   "metadata": {},
   "outputs": [
    {
     "data": {
      "text/plain": [
       "(47072, 3)"
      ]
     },
     "execution_count": 9,
     "metadata": {},
     "output_type": "execute_result"
    }
   ],
   "source": [
    "cpuScalingCategorical.shape"
   ]
  },
  {
   "cell_type": "code",
   "execution_count": 10,
   "metadata": {},
   "outputs": [
    {
     "name": "stdout",
     "output_type": "stream",
     "text": [
      "WARNING:tensorflow:From /home/ubuntu/anaconda3/envs/tensorflow_p27/lib/python2.7/site-packages/tensorflow/python/framework/op_def_library.py:263: colocate_with (from tensorflow.python.framework.ops) is deprecated and will be removed in a future version.\n",
      "Instructions for updating:\n",
      "Colocations handled automatically by placer.\n",
      "WARNING:tensorflow:From /home/ubuntu/anaconda3/envs/tensorflow_p27/lib/python2.7/site-packages/keras/backend/tensorflow_backend.py:3445: calling dropout (from tensorflow.python.ops.nn_ops) with keep_prob is deprecated and will be removed in a future version.\n",
      "Instructions for updating:\n",
      "Please use `rate` instead of `keep_prob`. Rate should be set to `rate = 1 - keep_prob`.\n"
     ]
    }
   ],
   "source": [
    "model = Sequential()\n",
    "#model.add(SpatialDropout1D(0.3))\n",
    "model.add(Flatten(batch_input_shape = (None,50,1)))\n",
    "\n",
    "model.add(Dense(50, activation = 'relu',\n",
    "                    kernel_initializer='he_normal', kernel_regularizer=regularizers.l2(0.1)))\n",
    "\n",
    "model.add(Dropout(0.3, noise_shape=None, seed=None))\n",
    "\n",
    "model.add(Dense(25, activation = 'relu',\n",
    "                    kernel_initializer='he_normal', kernel_regularizer=regularizers.l2(0.1)))\n",
    "\n",
    "model.add(Dropout(0.3, noise_shape=None, seed=None))\n",
    "\n",
    "#model.add(SpatialDropout1D(0.3))\n",
    "model.add(Dense(12,activation = 'relu',\n",
    "                    kernel_initializer='he_normal', kernel_regularizer=regularizers.l2(0.1)))\n",
    "\n",
    "model.add(Dropout(0.3, noise_shape=None, seed=None))\n",
    "\n",
    "model.add(Dense(6,activation = 'relu',\n",
    "                    kernel_initializer='he_normal', kernel_regularizer=regularizers.l2(0.1)))\n",
    "\n",
    "model.add(Dropout(0.3, noise_shape=None, seed=None))\n",
    "\n",
    "model.add(Dense(3, activation='softmax',kernel_initializer='he_normal'))\n",
    "\n",
    "model.compile(loss = 'categorical_crossentropy', optimizer = 'adam',metrics = ['accuracy'])\n",
    "#model.summary()"
   ]
  },
  {
   "cell_type": "code",
   "execution_count": 11,
   "metadata": {},
   "outputs": [
    {
     "name": "stdout",
     "output_type": "stream",
     "text": [
      "_________________________________________________________________\n",
      "Layer (type)                 Output Shape              Param #   \n",
      "=================================================================\n",
      "flatten_1 (Flatten)          (None, 50)                0         \n",
      "_________________________________________________________________\n",
      "dense_1 (Dense)              (None, 50)                2550      \n",
      "_________________________________________________________________\n",
      "dropout_1 (Dropout)          (None, 50)                0         \n",
      "_________________________________________________________________\n",
      "dense_2 (Dense)              (None, 25)                1275      \n",
      "_________________________________________________________________\n",
      "dropout_2 (Dropout)          (None, 25)                0         \n",
      "_________________________________________________________________\n",
      "dense_3 (Dense)              (None, 12)                312       \n",
      "_________________________________________________________________\n",
      "dropout_3 (Dropout)          (None, 12)                0         \n",
      "_________________________________________________________________\n",
      "dense_4 (Dense)              (None, 6)                 78        \n",
      "_________________________________________________________________\n",
      "dropout_4 (Dropout)          (None, 6)                 0         \n",
      "_________________________________________________________________\n",
      "dense_5 (Dense)              (None, 3)                 21        \n",
      "=================================================================\n",
      "Total params: 4,236\n",
      "Trainable params: 4,236\n",
      "Non-trainable params: 0\n",
      "_________________________________________________________________\n"
     ]
    }
   ],
   "source": [
    "model.summary()"
   ]
  },
  {
   "cell_type": "code",
   "execution_count": 12,
   "metadata": {},
   "outputs": [],
   "source": [
    "filepath=\"3OutputDNNV2BestWeights.hdf5\"\n",
    "checkpoint = ModelCheckpoint(filepath, monitor='val_acc', verbose=1, save_best_only=True, mode='max')\n",
    "callbacks_list = [checkpoint]"
   ]
  },
  {
   "cell_type": "code",
   "execution_count": 13,
   "metadata": {},
   "outputs": [
    {
     "data": {
      "text/plain": [
       "'if os.path.isfile(\"3OutputDNNBestWeights.hdf5\"):\\n    #print(\"Hey\")\\n    model.load_weights(\"3OutputDNNBestWeights.hdf5\")'"
      ]
     },
     "execution_count": 13,
     "metadata": {},
     "output_type": "execute_result"
    }
   ],
   "source": [
    "'''if os.path.isfile(\"3OutputDNNBestWeights.hdf5\"):\n",
    "    #print(\"Hey\")\n",
    "    model.load_weights(\"3OutputDNNBestWeights.hdf5\")'''"
   ]
  },
  {
   "cell_type": "code",
   "execution_count": 15,
   "metadata": {},
   "outputs": [
    {
     "name": "stdout",
     "output_type": "stream",
     "text": [
      "Train on 35304 samples, validate on 11768 samples\n",
      "Epoch 1/25\n",
      "35304/35304 [==============================] - 0s 4us/step - loss: 0.8405 - acc: 0.7394 - val_loss: 0.7009 - val_acc: 0.8856\n",
      "\n",
      "Epoch 00001: val_acc improved from 0.88537 to 0.88562, saving model to 3OutputDNNV2BestWeights.hdf5\n",
      "Epoch 2/25\n",
      "35304/35304 [==============================] - 0s 4us/step - loss: 0.8049 - acc: 0.7451 - val_loss: 0.6695 - val_acc: 0.8899\n",
      "\n",
      "Epoch 00002: val_acc improved from 0.88562 to 0.88987, saving model to 3OutputDNNV2BestWeights.hdf5\n",
      "Epoch 3/25\n",
      "35304/35304 [==============================] - 0s 4us/step - loss: 0.7726 - acc: 0.7503 - val_loss: 0.6290 - val_acc: 0.8897\n",
      "\n",
      "Epoch 00003: val_acc did not improve from 0.88987\n",
      "Epoch 4/25\n",
      "35304/35304 [==============================] - 0s 4us/step - loss: 0.7453 - acc: 0.7574 - val_loss: 0.5951 - val_acc: 0.8929\n",
      "\n",
      "Epoch 00004: val_acc improved from 0.88987 to 0.89293, saving model to 3OutputDNNV2BestWeights.hdf5\n",
      "Epoch 5/25\n",
      "35304/35304 [==============================] - 0s 4us/step - loss: 0.7153 - acc: 0.7647 - val_loss: 0.5655 - val_acc: 0.8991\n",
      "\n",
      "Epoch 00005: val_acc improved from 0.89293 to 0.89913, saving model to 3OutputDNNV2BestWeights.hdf5\n",
      "Epoch 6/25\n",
      "35304/35304 [==============================] - 0s 4us/step - loss: 0.6925 - acc: 0.7694 - val_loss: 0.5460 - val_acc: 0.9068\n",
      "\n",
      "Epoch 00006: val_acc improved from 0.89913 to 0.90678, saving model to 3OutputDNNV2BestWeights.hdf5\n",
      "Epoch 7/25\n",
      "35304/35304 [==============================] - 0s 4us/step - loss: 0.6779 - acc: 0.7703 - val_loss: 0.5287 - val_acc: 0.9091\n",
      "\n",
      "Epoch 00007: val_acc improved from 0.90678 to 0.90908, saving model to 3OutputDNNV2BestWeights.hdf5\n",
      "Epoch 8/25\n",
      "35304/35304 [==============================] - 0s 4us/step - loss: 0.6517 - acc: 0.7812 - val_loss: 0.5032 - val_acc: 0.9049\n",
      "\n",
      "Epoch 00008: val_acc did not improve from 0.90908\n",
      "Epoch 9/25\n",
      "35304/35304 [==============================] - 0s 4us/step - loss: 0.6417 - acc: 0.7816 - val_loss: 0.4991 - val_acc: 0.9142\n",
      "\n",
      "Epoch 00009: val_acc improved from 0.90908 to 0.91417, saving model to 3OutputDNNV2BestWeights.hdf5\n",
      "Epoch 10/25\n",
      "35304/35304 [==============================] - 0s 4us/step - loss: 0.6239 - acc: 0.7855 - val_loss: 0.4762 - val_acc: 0.9092\n",
      "\n",
      "Epoch 00010: val_acc did not improve from 0.91417\n",
      "Epoch 11/25\n",
      "35304/35304 [==============================] - 0s 4us/step - loss: 0.6100 - acc: 0.7926 - val_loss: 0.4648 - val_acc: 0.9041\n",
      "\n",
      "Epoch 00011: val_acc did not improve from 0.91417\n",
      "Epoch 12/25\n",
      "35304/35304 [==============================] - 0s 5us/step - loss: 0.5984 - acc: 0.7948 - val_loss: 0.4522 - val_acc: 0.9109\n",
      "\n",
      "Epoch 00012: val_acc did not improve from 0.91417\n",
      "Epoch 13/25\n",
      "35304/35304 [==============================] - 0s 7us/step - loss: 0.5887 - acc: 0.7984 - val_loss: 0.4432 - val_acc: 0.9107\n",
      "\n",
      "Epoch 00013: val_acc did not improve from 0.91417\n",
      "Epoch 14/25\n",
      "35304/35304 [==============================] - 0s 7us/step - loss: 0.5817 - acc: 0.7995 - val_loss: 0.4376 - val_acc: 0.9111\n",
      "\n",
      "Epoch 00014: val_acc did not improve from 0.91417\n",
      "Epoch 15/25\n",
      "35304/35304 [==============================] - 0s 6us/step - loss: 0.5752 - acc: 0.8008 - val_loss: 0.4286 - val_acc: 0.9094\n",
      "\n",
      "Epoch 00015: val_acc did not improve from 0.91417\n",
      "Epoch 16/25\n",
      "35304/35304 [==============================] - 0s 4us/step - loss: 0.5683 - acc: 0.8023 - val_loss: 0.4245 - val_acc: 0.9070\n",
      "\n",
      "Epoch 00016: val_acc did not improve from 0.91417\n",
      "Epoch 17/25\n",
      "35304/35304 [==============================] - 0s 4us/step - loss: 0.5657 - acc: 0.8016 - val_loss: 0.4217 - val_acc: 0.9182\n",
      "\n",
      "Epoch 00017: val_acc improved from 0.91417 to 0.91817, saving model to 3OutputDNNV2BestWeights.hdf5\n",
      "Epoch 18/25\n",
      "35304/35304 [==============================] - 0s 4us/step - loss: 0.5580 - acc: 0.8055 - val_loss: 0.4145 - val_acc: 0.9132\n",
      "\n",
      "Epoch 00018: val_acc did not improve from 0.91817\n",
      "Epoch 19/25\n",
      "35304/35304 [==============================] - 0s 4us/step - loss: 0.5474 - acc: 0.8119 - val_loss: 0.4166 - val_acc: 0.9058\n",
      "\n",
      "Epoch 00019: val_acc did not improve from 0.91817\n",
      "Epoch 20/25\n",
      "35304/35304 [==============================] - 0s 4us/step - loss: 0.5492 - acc: 0.8073 - val_loss: 0.4054 - val_acc: 0.9200\n",
      "\n",
      "Epoch 00020: val_acc improved from 0.91817 to 0.91995, saving model to 3OutputDNNV2BestWeights.hdf5\n",
      "Epoch 21/25\n",
      "35304/35304 [==============================] - 0s 4us/step - loss: 0.5467 - acc: 0.8074 - val_loss: 0.4009 - val_acc: 0.9149\n",
      "\n",
      "Epoch 00021: val_acc did not improve from 0.91995\n",
      "Epoch 22/25\n",
      "35304/35304 [==============================] - 0s 4us/step - loss: 0.5422 - acc: 0.8097 - val_loss: 0.3979 - val_acc: 0.9149\n",
      "\n",
      "Epoch 00022: val_acc did not improve from 0.91995\n",
      "Epoch 23/25\n",
      "35304/35304 [==============================] - 0s 4us/step - loss: 0.5410 - acc: 0.8094 - val_loss: 0.3965 - val_acc: 0.9108\n",
      "\n",
      "Epoch 00023: val_acc did not improve from 0.91995\n",
      "Epoch 24/25\n",
      "35304/35304 [==============================] - 0s 5us/step - loss: 0.5351 - acc: 0.8119 - val_loss: 0.3924 - val_acc: 0.9133\n",
      "\n",
      "Epoch 00024: val_acc did not improve from 0.91995\n",
      "Epoch 25/25\n",
      "35304/35304 [==============================] - 0s 4us/step - loss: 0.5317 - acc: 0.8158 - val_loss: 0.3899 - val_acc: 0.9164\n",
      "\n",
      "Epoch 00025: val_acc did not improve from 0.91995\n"
     ]
    }
   ],
   "source": [
    "history = model.fit(X_train, y_train, epochs = 25,validation_data = [X_test, y_test],verbose = 1, callbacks = callbacks_list,batch_size = 1000)"
   ]
  },
  {
   "cell_type": "code",
   "execution_count": null,
   "metadata": {},
   "outputs": [],
   "source": []
  },
  {
   "cell_type": "code",
   "execution_count": null,
   "metadata": {},
   "outputs": [],
   "source": [
    "res = model.predict(X_test,batch_size = 1)"
   ]
  },
  {
   "cell_type": "code",
   "execution_count": null,
   "metadata": {},
   "outputs": [],
   "source": []
  },
  {
   "cell_type": "code",
   "execution_count": null,
   "metadata": {},
   "outputs": [],
   "source": [
    "print(res)"
   ]
  },
  {
   "cell_type": "code",
   "execution_count": null,
   "metadata": {},
   "outputs": [],
   "source": [
    "np.argmax(res,axis = 1)"
   ]
  },
  {
   "cell_type": "code",
   "execution_count": null,
   "metadata": {},
   "outputs": [],
   "source": [
    "print(inpData[0+1])"
   ]
  }
 ],
 "metadata": {
  "kernelspec": {
   "display_name": "Environment (conda_tensorflow_p27)",
   "language": "python",
   "name": "conda_tensorflow_p27"
  },
  "language_info": {
   "codemirror_mode": {
    "name": "ipython",
    "version": 2
   },
   "file_extension": ".py",
   "mimetype": "text/x-python",
   "name": "python",
   "nbconvert_exporter": "python",
   "pygments_lexer": "ipython2",
   "version": "2.7.15"
  }
 },
 "nbformat": 4,
 "nbformat_minor": 2
}
